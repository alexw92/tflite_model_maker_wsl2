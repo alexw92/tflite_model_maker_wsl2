{
 "cells": [
  {
   "cell_type": "markdown",
   "id": "163f06e7",
   "metadata": {},
   "source": [
    "# Load the pretrained model"
   ]
  },
  {
   "cell_type": "markdown",
   "metadata": {},
   "source": [
    "Load annotations without Images"
   ]
  },
  {
   "cell_type": "code",
   "execution_count": null,
   "metadata": {
    "vscode": {
     "languageId": "shellscript"
    }
   },
   "outputs": [],
   "source": [
    "curl -X GET http://url:8080/api/projects/1/export?exportType=CSV -H 'Authorization: Token xxx' --output 'annotations.csv' "
   ]
  },
  {
   "cell_type": "markdown",
   "metadata": {},
   "source": [
    "Archive Images (on Server!)"
   ]
  },
  {
   "cell_type": "code",
   "execution_count": null,
   "metadata": {
    "vscode": {
     "languageId": "shellscript"
    }
   },
   "outputs": [],
   "source": [
    "tar -czvf /home/alex/all_imgs_11_10_23.tar.gz"
   ]
  },
  {
   "cell_type": "markdown",
   "metadata": {},
   "source": [
    "Download archive from server and extract it"
   ]
  },
  {
   "cell_type": "code",
   "execution_count": null,
   "metadata": {
    "vscode": {
     "languageId": "shellscript"
    }
   },
   "outputs": [],
   "source": [
    "scp alex@foodsnapai.com:/home/alex/all_imgs_11_10_23.tar.gz allImgs.tar.gz\n",
    "tar -xzvf allImgs.tar.gz -C /home/alex/allImgs_extracted/"
   ]
  },
  {
   "cell_type": "markdown",
   "metadata": {},
   "source": [
    "Convert annotations and images and preprocess them"
   ]
  },
  {
   "cell_type": "code",
   "execution_count": null,
   "metadata": {
    "vscode": {
     "languageId": "shellscript"
    }
   },
   "outputs": [],
   "source": [
    "%run 'convert_csv_to_mlflow_csv.py' annotations.csv"
   ]
  },
  {
   "cell_type": "code",
   "execution_count": null,
   "metadata": {
    "vscode": {
     "languageId": "shellscript"
    }
   },
   "outputs": [],
   "source": [
    "%run 'convert_pascal_to_googlecsv.py' --merged_csv annotations_mlflow.csv"
   ]
  },
  {
   "cell_type": "markdown",
   "metadata": {},
   "source": [
    "Now rename the file paths in the file to their actual location (find & replace)"
   ]
  },
  {
   "cell_type": "code",
   "execution_count": 7,
   "metadata": {
    "vscode": {
     "languageId": "shellscript"
    }
   },
   "outputs": [
    {
     "name": "stdout",
     "output_type": "stream",
     "text": [
      "/home/alex/tflite_model_maker_wsl2\n",
      "convert png image files to jpeg imgs\n"
     ]
    },
    {
     "data": {
      "application/vnd.jupyter.widget-view+json": {
       "model_id": "9e30222a7c9f43e9a647f65fcb22673e",
       "version_major": 2,
       "version_minor": 0
      },
      "text/plain": [
       "0it [00:00, ?it/s]"
      ]
     },
     "metadata": {},
     "output_type": "display_data"
    },
    {
     "name": "stdout",
     "output_type": "stream",
     "text": [
      "Converted 22\n",
      "Ignored 6206 files because: Not a PNG file\n",
      "Ignored 0 files because: Not found\n"
     ]
    }
   ],
   "source": [
    "!pwd\n",
    "%run 'png_to_jpeg.py' annotations_mlflow_shuffled.csv"
   ]
  },
  {
   "cell_type": "code",
   "execution_count": null,
   "metadata": {
    "vscode": {
     "languageId": "shellscript"
    }
   },
   "outputs": [],
   "source": [
    "\n",
    "%run preproc_imgs.py /home/alex/allImgs_extracted /home/alex/allImgs_extracted_smaller 800"
   ]
  },
  {
   "cell_type": "code",
   "execution_count": 8,
   "metadata": {
    "vscode": {
     "languageId": "shellscript"
    }
   },
   "outputs": [],
   "source": [
    "\n",
    "%run normalize_csv.py annotations_mlflow_shuffled.csv annotations_mlflow_shuffled_n.csv"
   ]
  },
  {
   "cell_type": "markdown",
   "metadata": {},
   "source": [
    "check the stats of the dataset splits"
   ]
  },
  {
   "cell_type": "code",
   "execution_count": 22,
   "metadata": {
    "vscode": {
     "languageId": "shellscript"
    }
   },
   "outputs": [
    {
     "name": "stdout",
     "output_type": "stream",
     "text": [
      "There are 964 different files in this set\n",
      "There are 14 different classes in this set\n",
      "Classes: Apple, other, Egg, Cucumber, Onion, Bell-Pepper, Banana, Lemon, Tomato, Garlic, Carrot, Potato, Zucchini, Pumpkin\n",
      "Apple occurs in 98 different files\n",
      "other occurs in 874 different files\n",
      "Egg occurs in 131 different files\n",
      "Cucumber occurs in 255 different files\n",
      "Onion occurs in 163 different files\n",
      "Bell-Pepper occurs in 183 different files\n",
      "Banana occurs in 134 different files\n",
      "Lemon occurs in 103 different files\n",
      "Tomato occurs in 259 different files\n",
      "Garlic occurs in 115 different files\n",
      "Carrot occurs in 146 different files\n",
      "Potato occurs in 105 different files\n",
      "Zucchini occurs in 119 different files\n",
      "Pumpkin occurs in 43 different files\n",
      "\n",
      "Class Distribution in Splits:\n",
      "\n",
      "TRAIN:\n",
      "Apple: 76 files (3.47%)\n",
      "other: 696 files (31.78%)\n",
      "Egg: 107 files (4.89%)\n",
      "Cucumber: 202 files (9.22%)\n",
      "Onion: 134 files (6.12%)\n",
      "Bell-Pepper: 143 files (6.53%)\n",
      "Banana: 105 files (4.79%)\n",
      "Lemon: 88 files (4.02%)\n",
      "Tomato: 206 files (9.41%)\n",
      "Garlic: 95 files (4.34%)\n",
      "Carrot: 119 files (5.43%)\n",
      "Potato: 84 files (3.84%)\n",
      "Zucchini: 99 files (4.52%)\n",
      "Pumpkin: 36 files (1.64%)\n",
      "\n",
      "TEST:\n",
      "other: 90 files (34.88%)\n",
      "Banana: 14 files (5.43%)\n",
      "Tomato: 24 files (9.3%)\n",
      "Carrot: 10 files (3.88%)\n",
      "Bell-Pepper: 22 files (8.53%)\n",
      "Cucumber: 25 files (9.69%)\n",
      "Pumpkin: 5 files (1.94%)\n",
      "Garlic: 10 files (3.88%)\n",
      "Onion: 14 files (5.43%)\n",
      "Zucchini: 11 files (4.26%)\n",
      "Egg: 10 files (3.88%)\n",
      "Lemon: 6 files (2.33%)\n",
      "Apple: 8 files (3.1%)\n",
      "Potato: 9 files (3.49%)\n",
      "\n",
      "VALIDATE:\n",
      "other: 88 files (31.43%)\n",
      "Garlic: 10 files (3.57%)\n",
      "Tomato: 29 files (10.36%)\n",
      "Onion: 15 files (5.36%)\n",
      "Potato: 12 files (4.29%)\n",
      "Banana: 15 files (5.36%)\n",
      "Apple: 14 files (5.0%)\n",
      "Carrot: 17 files (6.07%)\n",
      "Cucumber: 28 files (10.0%)\n",
      "Egg: 14 files (5.0%)\n",
      "Bell-Pepper: 18 files (6.43%)\n",
      "Zucchini: 9 files (3.21%)\n",
      "Lemon: 9 files (3.21%)\n",
      "Pumpkin: 2 files (0.71%)\n"
     ]
    }
   ],
   "source": [
    "%run get_label_stats.py annotations_mlflow_shuffled_n.csv"
   ]
  },
  {
   "cell_type": "markdown",
   "metadata": {},
   "source": [
    "Now you can start to load the model and train!"
   ]
  },
  {
   "cell_type": "code",
   "execution_count": 9,
   "id": "ba09f9d5",
   "metadata": {},
   "outputs": [],
   "source": [
    "import numpy as np\n",
    "import os\n",
    "\n",
    "from tflite_model_maker.config import QuantizationConfig\n",
    "from tflite_model_maker.config import ExportFormat\n",
    "from tflite_model_maker import model_spec\n",
    "from tflite_model_maker import object_detector\n",
    "\n",
    "import tensorflow as tf\n",
    "assert tf.__version__.startswith('2')\n",
    "\n",
    "tf.get_logger().setLevel('ERROR')\n",
    "from absl import logging\n",
    "logging.set_verbosity(logging.ERROR)\n",
    "\n",
    "spec = model_spec.get('efficientdet_lite0')"
   ]
  },
  {
   "cell_type": "markdown",
   "id": "0f26b4f5",
   "metadata": {},
   "source": [
    "# Load the dataset"
   ]
  },
  {
   "cell_type": "code",
   "execution_count": 14,
   "id": "0ad66896",
   "metadata": {},
   "outputs": [
    {
     "name": "stdout",
     "output_type": "stream",
     "text": [
      "Current Working Directory: /home/alex/tflite_model_maker_wsl2\n",
      "The file '/home/alex/tflite_model_maker_wsl2/annotations_mlflow_shuffled_n.csv' exists.\n"
     ]
    }
   ],
   "source": [
    "import os\n",
    "current_directory = os.getcwd()\n",
    "print(\"Current Working Directory:\", current_directory)\n",
    "file_path = '/home/alex/tflite_model_maker_wsl2/annotations_mlflow_shuffled_n.csv'\n",
    "\n",
    "if os.path.exists(file_path):\n",
    "    print(f\"The file '{file_path}' exists.\")\n",
    "train_data, validation_data, test_data = object_detector.DataLoader.from_csv(file_path)"
   ]
  },
  {
   "cell_type": "markdown",
   "id": "a6ce5fa6",
   "metadata": {},
   "source": [
    "# Train the model"
   ]
  },
  {
   "cell_type": "code",
   "execution_count": 23,
   "id": "6ca0f89a",
   "metadata": {},
   "outputs": [
    {
     "name": "stdout",
     "output_type": "stream",
     "text": [
      "Epoch 1/50\n",
      "96/96 [==============================] - 183s 2s/step - det_loss: 1.6233 - cls_loss: 1.0471 - box_loss: 0.0115 - reg_l2_loss: 0.0651 - loss: 1.6884 - learning_rate: 0.0090 - gradient_norm: 1.0933 - val_det_loss: 1.4922 - val_cls_loss: 0.9598 - val_box_loss: 0.0106 - val_reg_l2_loss: 0.0651 - val_loss: 1.5573\n",
      "Epoch 2/50\n",
      "96/96 [==============================] - 68s 704ms/step - det_loss: 1.3207 - cls_loss: 0.8493 - box_loss: 0.0094 - reg_l2_loss: 0.0651 - loss: 1.3858 - learning_rate: 0.0100 - gradient_norm: 1.5115 - val_det_loss: 1.3459 - val_cls_loss: 0.8727 - val_box_loss: 0.0095 - val_reg_l2_loss: 0.0651 - val_loss: 1.4110\n",
      "Epoch 3/50\n",
      "96/96 [==============================] - 32s 329ms/step - det_loss: 1.2075 - cls_loss: 0.7887 - box_loss: 0.0084 - reg_l2_loss: 0.0651 - loss: 1.2726 - learning_rate: 0.0099 - gradient_norm: 1.6517 - val_det_loss: 1.2879 - val_cls_loss: 0.8298 - val_box_loss: 0.0092 - val_reg_l2_loss: 0.0652 - val_loss: 1.3531\n",
      "Epoch 4/50\n",
      "96/96 [==============================] - 32s 328ms/step - det_loss: 1.1424 - cls_loss: 0.7488 - box_loss: 0.0079 - reg_l2_loss: 0.0652 - loss: 1.2076 - learning_rate: 0.0099 - gradient_norm: 1.7647 - val_det_loss: 1.2626 - val_cls_loss: 0.8166 - val_box_loss: 0.0089 - val_reg_l2_loss: 0.0652 - val_loss: 1.3277\n",
      "Epoch 5/50\n",
      "96/96 [==============================] - 38s 401ms/step - det_loss: 1.1135 - cls_loss: 0.7267 - box_loss: 0.0077 - reg_l2_loss: 0.0652 - loss: 1.1787 - learning_rate: 0.0098 - gradient_norm: 1.8517 - val_det_loss: 1.2183 - val_cls_loss: 0.7852 - val_box_loss: 0.0087 - val_reg_l2_loss: 0.0652 - val_loss: 1.2835\n",
      "Epoch 6/50\n",
      "96/96 [==============================] - 32s 332ms/step - det_loss: 1.0864 - cls_loss: 0.7161 - box_loss: 0.0074 - reg_l2_loss: 0.0652 - loss: 1.1516 - learning_rate: 0.0097 - gradient_norm: 1.8916 - val_det_loss: 1.2167 - val_cls_loss: 0.7943 - val_box_loss: 0.0084 - val_reg_l2_loss: 0.0652 - val_loss: 1.2819\n",
      "Epoch 7/50\n",
      "96/96 [==============================] - 32s 331ms/step - det_loss: 1.0665 - cls_loss: 0.6989 - box_loss: 0.0074 - reg_l2_loss: 0.0652 - loss: 1.1317 - learning_rate: 0.0096 - gradient_norm: 2.0057 - val_det_loss: 1.2114 - val_cls_loss: 0.7956 - val_box_loss: 0.0083 - val_reg_l2_loss: 0.0652 - val_loss: 1.2766\n",
      "Epoch 8/50\n",
      "96/96 [==============================] - 32s 331ms/step - det_loss: 1.0405 - cls_loss: 0.6800 - box_loss: 0.0072 - reg_l2_loss: 0.0652 - loss: 1.1057 - learning_rate: 0.0094 - gradient_norm: 2.2167 - val_det_loss: 1.2172 - val_cls_loss: 0.7837 - val_box_loss: 0.0087 - val_reg_l2_loss: 0.0653 - val_loss: 1.2824\n",
      "Epoch 9/50\n",
      "96/96 [==============================] - 32s 332ms/step - det_loss: 1.0095 - cls_loss: 0.6640 - box_loss: 0.0069 - reg_l2_loss: 0.0653 - loss: 1.0748 - learning_rate: 0.0093 - gradient_norm: 2.1662 - val_det_loss: 1.1985 - val_cls_loss: 0.7816 - val_box_loss: 0.0083 - val_reg_l2_loss: 0.0653 - val_loss: 1.2638\n",
      "Epoch 10/50\n",
      "96/96 [==============================] - 34s 357ms/step - det_loss: 0.9936 - cls_loss: 0.6569 - box_loss: 0.0067 - reg_l2_loss: 0.0653 - loss: 1.0589 - learning_rate: 0.0091 - gradient_norm: 2.1232 - val_det_loss: 1.2347 - val_cls_loss: 0.7986 - val_box_loss: 0.0087 - val_reg_l2_loss: 0.0653 - val_loss: 1.3000\n",
      "Epoch 11/50\n",
      "96/96 [==============================] - 32s 333ms/step - det_loss: 1.0049 - cls_loss: 0.6585 - box_loss: 0.0069 - reg_l2_loss: 0.0653 - loss: 1.0702 - learning_rate: 0.0089 - gradient_norm: 2.2498 - val_det_loss: 1.1245 - val_cls_loss: 0.7305 - val_box_loss: 0.0079 - val_reg_l2_loss: 0.0654 - val_loss: 1.1898\n",
      "Epoch 12/50\n",
      "96/96 [==============================] - 32s 331ms/step - det_loss: 0.9859 - cls_loss: 0.6462 - box_loss: 0.0068 - reg_l2_loss: 0.0654 - loss: 1.0513 - learning_rate: 0.0087 - gradient_norm: 2.2070 - val_det_loss: 1.1981 - val_cls_loss: 0.7621 - val_box_loss: 0.0087 - val_reg_l2_loss: 0.0654 - val_loss: 1.2635\n",
      "Epoch 13/50\n",
      "96/96 [==============================] - 32s 333ms/step - det_loss: 0.9627 - cls_loss: 0.6297 - box_loss: 0.0067 - reg_l2_loss: 0.0654 - loss: 1.0281 - learning_rate: 0.0085 - gradient_norm: 2.2779 - val_det_loss: 1.1936 - val_cls_loss: 0.7707 - val_box_loss: 0.0085 - val_reg_l2_loss: 0.0654 - val_loss: 1.2590\n",
      "Epoch 14/50\n",
      "96/96 [==============================] - 33s 341ms/step - det_loss: 0.9499 - cls_loss: 0.6270 - box_loss: 0.0065 - reg_l2_loss: 0.0654 - loss: 1.0153 - learning_rate: 0.0082 - gradient_norm: 2.3642 - val_det_loss: 1.2558 - val_cls_loss: 0.7984 - val_box_loss: 0.0091 - val_reg_l2_loss: 0.0655 - val_loss: 1.3213\n",
      "Epoch 15/50\n",
      "96/96 [==============================] - 34s 358ms/step - det_loss: 0.9397 - cls_loss: 0.6136 - box_loss: 0.0065 - reg_l2_loss: 0.0655 - loss: 1.0051 - learning_rate: 0.0080 - gradient_norm: 2.3650 - val_det_loss: 1.1521 - val_cls_loss: 0.7594 - val_box_loss: 0.0079 - val_reg_l2_loss: 0.0655 - val_loss: 1.2176\n",
      "Epoch 16/50\n",
      "96/96 [==============================] - 32s 336ms/step - det_loss: 0.9161 - cls_loss: 0.6049 - box_loss: 0.0062 - reg_l2_loss: 0.0655 - loss: 0.9816 - learning_rate: 0.0077 - gradient_norm: 2.3039 - val_det_loss: 1.1504 - val_cls_loss: 0.7530 - val_box_loss: 0.0079 - val_reg_l2_loss: 0.0655 - val_loss: 1.2159\n",
      "Epoch 17/50\n",
      "96/96 [==============================] - 34s 349ms/step - det_loss: 0.9261 - cls_loss: 0.6079 - box_loss: 0.0064 - reg_l2_loss: 0.0655 - loss: 0.9917 - learning_rate: 0.0075 - gradient_norm: 2.5145 - val_det_loss: 1.1538 - val_cls_loss: 0.7513 - val_box_loss: 0.0080 - val_reg_l2_loss: 0.0656 - val_loss: 1.2193\n",
      "Epoch 18/50\n",
      "96/96 [==============================] - 32s 334ms/step - det_loss: 0.9087 - cls_loss: 0.5971 - box_loss: 0.0062 - reg_l2_loss: 0.0656 - loss: 0.9743 - learning_rate: 0.0072 - gradient_norm: 2.5031 - val_det_loss: 1.3073 - val_cls_loss: 0.8475 - val_box_loss: 0.0092 - val_reg_l2_loss: 0.0656 - val_loss: 1.3729\n",
      "Epoch 19/50\n",
      "96/96 [==============================] - 32s 334ms/step - det_loss: 0.8947 - cls_loss: 0.5820 - box_loss: 0.0063 - reg_l2_loss: 0.0656 - loss: 0.9603 - learning_rate: 0.0069 - gradient_norm: 2.5193 - val_det_loss: 1.2057 - val_cls_loss: 0.7969 - val_box_loss: 0.0082 - val_reg_l2_loss: 0.0656 - val_loss: 1.2713\n",
      "Epoch 20/50\n",
      "96/96 [==============================] - 35s 365ms/step - det_loss: 0.8744 - cls_loss: 0.5709 - box_loss: 0.0061 - reg_l2_loss: 0.0656 - loss: 0.9401 - learning_rate: 0.0066 - gradient_norm: 2.5906 - val_det_loss: 1.2138 - val_cls_loss: 0.8085 - val_box_loss: 0.0081 - val_reg_l2_loss: 0.0657 - val_loss: 1.2794\n",
      "Epoch 21/50\n",
      "96/96 [==============================] - 33s 340ms/step - det_loss: 0.8856 - cls_loss: 0.5795 - box_loss: 0.0061 - reg_l2_loss: 0.0657 - loss: 0.9513 - learning_rate: 0.0063 - gradient_norm: 2.6299 - val_det_loss: 1.2722 - val_cls_loss: 0.8320 - val_box_loss: 0.0088 - val_reg_l2_loss: 0.0657 - val_loss: 1.3379\n",
      "Epoch 22/50\n",
      "96/96 [==============================] - 33s 341ms/step - det_loss: 0.8519 - cls_loss: 0.5579 - box_loss: 0.0059 - reg_l2_loss: 0.0657 - loss: 0.9176 - learning_rate: 0.0060 - gradient_norm: 2.6487 - val_det_loss: 1.1743 - val_cls_loss: 0.7578 - val_box_loss: 0.0083 - val_reg_l2_loss: 0.0657 - val_loss: 1.2400\n",
      "Epoch 23/50\n",
      "96/96 [==============================] - 33s 342ms/step - det_loss: 0.8532 - cls_loss: 0.5559 - box_loss: 0.0059 - reg_l2_loss: 0.0657 - loss: 0.9189 - learning_rate: 0.0056 - gradient_norm: 2.7304 - val_det_loss: 1.2209 - val_cls_loss: 0.7862 - val_box_loss: 0.0087 - val_reg_l2_loss: 0.0657 - val_loss: 1.2867\n",
      "Epoch 24/50\n",
      "96/96 [==============================] - 33s 340ms/step - det_loss: 0.8466 - cls_loss: 0.5517 - box_loss: 0.0059 - reg_l2_loss: 0.0657 - loss: 0.9124 - learning_rate: 0.0053 - gradient_norm: 2.5609 - val_det_loss: 1.1722 - val_cls_loss: 0.7754 - val_box_loss: 0.0079 - val_reg_l2_loss: 0.0657 - val_loss: 1.2379\n",
      "Epoch 25/50\n",
      "96/96 [==============================] - 35s 365ms/step - det_loss: 0.8360 - cls_loss: 0.5435 - box_loss: 0.0059 - reg_l2_loss: 0.0658 - loss: 0.9018 - learning_rate: 0.0050 - gradient_norm: 2.6183 - val_det_loss: 1.1966 - val_cls_loss: 0.7815 - val_box_loss: 0.0083 - val_reg_l2_loss: 0.0658 - val_loss: 1.2623\n",
      "Epoch 26/50\n",
      "96/96 [==============================] - 33s 340ms/step - det_loss: 0.8302 - cls_loss: 0.5378 - box_loss: 0.0058 - reg_l2_loss: 0.0658 - loss: 0.8960 - learning_rate: 0.0047 - gradient_norm: 2.5882 - val_det_loss: 1.1711 - val_cls_loss: 0.7812 - val_box_loss: 0.0078 - val_reg_l2_loss: 0.0658 - val_loss: 1.2368\n",
      "Epoch 27/50\n",
      "96/96 [==============================] - 33s 343ms/step - det_loss: 0.8249 - cls_loss: 0.5344 - box_loss: 0.0058 - reg_l2_loss: 0.0658 - loss: 0.8907 - learning_rate: 0.0044 - gradient_norm: 2.7295 - val_det_loss: 1.1785 - val_cls_loss: 0.7661 - val_box_loss: 0.0082 - val_reg_l2_loss: 0.0658 - val_loss: 1.2442\n",
      "Epoch 28/50\n",
      "96/96 [==============================] - 34s 357ms/step - det_loss: 0.8238 - cls_loss: 0.5355 - box_loss: 0.0058 - reg_l2_loss: 0.0658 - loss: 0.8896 - learning_rate: 0.0040 - gradient_norm: 2.7721 - val_det_loss: 1.1994 - val_cls_loss: 0.7827 - val_box_loss: 0.0083 - val_reg_l2_loss: 0.0658 - val_loss: 1.2652\n",
      "Epoch 29/50\n",
      "96/96 [==============================] - 33s 344ms/step - det_loss: 0.8083 - cls_loss: 0.5217 - box_loss: 0.0057 - reg_l2_loss: 0.0658 - loss: 0.8741 - learning_rate: 0.0037 - gradient_norm: 2.5585 - val_det_loss: 1.1933 - val_cls_loss: 0.7705 - val_box_loss: 0.0085 - val_reg_l2_loss: 0.0658 - val_loss: 1.2591\n",
      "Epoch 30/50\n",
      "96/96 [==============================] - 35s 366ms/step - det_loss: 0.8221 - cls_loss: 0.5315 - box_loss: 0.0058 - reg_l2_loss: 0.0658 - loss: 0.8879 - learning_rate: 0.0034 - gradient_norm: 2.7522 - val_det_loss: 1.2021 - val_cls_loss: 0.8014 - val_box_loss: 0.0080 - val_reg_l2_loss: 0.0658 - val_loss: 1.2679\n",
      "Epoch 31/50\n",
      "96/96 [==============================] - 33s 340ms/step - det_loss: 0.7954 - cls_loss: 0.5142 - box_loss: 0.0056 - reg_l2_loss: 0.0658 - loss: 0.8612 - learning_rate: 0.0031 - gradient_norm: 2.6423 - val_det_loss: 1.1096 - val_cls_loss: 0.7099 - val_box_loss: 0.0080 - val_reg_l2_loss: 0.0658 - val_loss: 1.1754\n",
      "Epoch 32/50\n",
      "96/96 [==============================] - 33s 342ms/step - det_loss: 0.7723 - cls_loss: 0.5006 - box_loss: 0.0054 - reg_l2_loss: 0.0658 - loss: 0.8381 - learning_rate: 0.0028 - gradient_norm: 2.6219 - val_det_loss: 1.1254 - val_cls_loss: 0.7188 - val_box_loss: 0.0081 - val_reg_l2_loss: 0.0658 - val_loss: 1.1912\n",
      "Epoch 33/50\n",
      "96/96 [==============================] - 40s 415ms/step - det_loss: 0.7773 - cls_loss: 0.5042 - box_loss: 0.0055 - reg_l2_loss: 0.0658 - loss: 0.8431 - learning_rate: 0.0025 - gradient_norm: 2.6377 - val_det_loss: 1.1820 - val_cls_loss: 0.7681 - val_box_loss: 0.0083 - val_reg_l2_loss: 0.0658 - val_loss: 1.2478\n",
      "Epoch 34/50\n",
      "96/96 [==============================] - 34s 350ms/step - det_loss: 0.7903 - cls_loss: 0.5103 - box_loss: 0.0056 - reg_l2_loss: 0.0658 - loss: 0.8561 - learning_rate: 0.0023 - gradient_norm: 2.7920 - val_det_loss: 1.1304 - val_cls_loss: 0.7335 - val_box_loss: 0.0079 - val_reg_l2_loss: 0.0658 - val_loss: 1.1962\n",
      "Epoch 35/50\n",
      "96/96 [==============================] - 34s 359ms/step - det_loss: 0.7807 - cls_loss: 0.5028 - box_loss: 0.0056 - reg_l2_loss: 0.0658 - loss: 0.8465 - learning_rate: 0.0020 - gradient_norm: 2.8208 - val_det_loss: 1.1745 - val_cls_loss: 0.7753 - val_box_loss: 0.0080 - val_reg_l2_loss: 0.0658 - val_loss: 1.2403\n",
      "Epoch 36/50\n",
      "96/96 [==============================] - 33s 343ms/step - det_loss: 0.7738 - cls_loss: 0.5015 - box_loss: 0.0054 - reg_l2_loss: 0.0658 - loss: 0.8396 - learning_rate: 0.0018 - gradient_norm: 2.8416 - val_det_loss: 1.1573 - val_cls_loss: 0.7473 - val_box_loss: 0.0082 - val_reg_l2_loss: 0.0658 - val_loss: 1.2231\n",
      "Epoch 37/50\n",
      "96/96 [==============================] - 31s 324ms/step - det_loss: 0.7607 - cls_loss: 0.4917 - box_loss: 0.0054 - reg_l2_loss: 0.0658 - loss: 0.8264 - learning_rate: 0.0015 - gradient_norm: 2.7673 - val_det_loss: 1.1493 - val_cls_loss: 0.7405 - val_box_loss: 0.0082 - val_reg_l2_loss: 0.0658 - val_loss: 1.2151\n",
      "Epoch 38/50\n",
      "96/96 [==============================] - 31s 323ms/step - det_loss: 0.7653 - cls_loss: 0.4932 - box_loss: 0.0054 - reg_l2_loss: 0.0658 - loss: 0.8311 - learning_rate: 0.0013 - gradient_norm: 2.8624 - val_det_loss: 1.1461 - val_cls_loss: 0.7329 - val_box_loss: 0.0083 - val_reg_l2_loss: 0.0658 - val_loss: 1.2119\n",
      "Epoch 39/50\n",
      "96/96 [==============================] - 31s 323ms/step - det_loss: 0.7504 - cls_loss: 0.4855 - box_loss: 0.0053 - reg_l2_loss: 0.0658 - loss: 0.8162 - learning_rate: 0.0011 - gradient_norm: 2.7460 - val_det_loss: 1.1848 - val_cls_loss: 0.7730 - val_box_loss: 0.0082 - val_reg_l2_loss: 0.0658 - val_loss: 1.2506\n",
      "Epoch 40/50\n",
      "96/96 [==============================] - 34s 355ms/step - det_loss: 0.7558 - cls_loss: 0.4870 - box_loss: 0.0054 - reg_l2_loss: 0.0658 - loss: 0.8216 - learning_rate: 8.9987e-04 - gradient_norm: 2.8425 - val_det_loss: 1.1318 - val_cls_loss: 0.7241 - val_box_loss: 0.0082 - val_reg_l2_loss: 0.0658 - val_loss: 1.1976\n",
      "Epoch 41/50\n",
      "96/96 [==============================] - 31s 318ms/step - det_loss: 0.7430 - cls_loss: 0.4812 - box_loss: 0.0052 - reg_l2_loss: 0.0658 - loss: 0.8088 - learning_rate: 7.2505e-04 - gradient_norm: 2.7304 - val_det_loss: 1.1415 - val_cls_loss: 0.7372 - val_box_loss: 0.0081 - val_reg_l2_loss: 0.0658 - val_loss: 1.2073\n",
      "Epoch 42/50\n",
      "96/96 [==============================] - 125s 1s/step - det_loss: 0.7440 - cls_loss: 0.4784 - box_loss: 0.0053 - reg_l2_loss: 0.0658 - loss: 0.8098 - learning_rate: 5.6779e-04 - gradient_norm: 2.8299 - val_det_loss: 1.1397 - val_cls_loss: 0.7347 - val_box_loss: 0.0081 - val_reg_l2_loss: 0.0658 - val_loss: 1.2054\n",
      "Epoch 43/50\n",
      "96/96 [==============================] - 130s 1s/step - det_loss: 0.7436 - cls_loss: 0.4779 - box_loss: 0.0053 - reg_l2_loss: 0.0658 - loss: 0.8094 - learning_rate: 4.2875e-04 - gradient_norm: 2.7578 - val_det_loss: 1.1526 - val_cls_loss: 0.7438 - val_box_loss: 0.0082 - val_reg_l2_loss: 0.0658 - val_loss: 1.2184\n",
      "Epoch 44/50\n",
      "96/96 [==============================] - 275s 3s/step - det_loss: 0.7472 - cls_loss: 0.4832 - box_loss: 0.0053 - reg_l2_loss: 0.0658 - loss: 0.8129 - learning_rate: 3.0849e-04 - gradient_norm: 2.8692 - val_det_loss: 1.1486 - val_cls_loss: 0.7424 - val_box_loss: 0.0081 - val_reg_l2_loss: 0.0658 - val_loss: 1.2144\n",
      "Epoch 45/50\n",
      "96/96 [==============================] - 320s 3s/step - det_loss: 0.7505 - cls_loss: 0.4844 - box_loss: 0.0053 - reg_l2_loss: 0.0658 - loss: 0.8163 - learning_rate: 2.0751e-04 - gradient_norm: 2.7447 - val_det_loss: 1.1474 - val_cls_loss: 0.7408 - val_box_loss: 0.0081 - val_reg_l2_loss: 0.0658 - val_loss: 1.2131\n",
      "Epoch 46/50\n",
      "96/96 [==============================] - 159s 2s/step - det_loss: 0.7341 - cls_loss: 0.4741 - box_loss: 0.0052 - reg_l2_loss: 0.0658 - loss: 0.7999 - learning_rate: 1.2622e-04 - gradient_norm: 2.7000 - val_det_loss: 1.1407 - val_cls_loss: 0.7359 - val_box_loss: 0.0081 - val_reg_l2_loss: 0.0658 - val_loss: 1.2065\n",
      "Epoch 47/50\n",
      "96/96 [==============================] - 49s 514ms/step - det_loss: 0.7489 - cls_loss: 0.4826 - box_loss: 0.0053 - reg_l2_loss: 0.0658 - loss: 0.8146 - learning_rate: 6.4958e-05 - gradient_norm: 2.7216 - val_det_loss: 1.1421 - val_cls_loss: 0.7375 - val_box_loss: 0.0081 - val_reg_l2_loss: 0.0658 - val_loss: 1.2078\n",
      "Epoch 48/50\n",
      "96/96 [==============================] - 49s 513ms/step - det_loss: 0.7330 - cls_loss: 0.4757 - box_loss: 0.0051 - reg_l2_loss: 0.0658 - loss: 0.7988 - learning_rate: 2.3977e-05 - gradient_norm: 2.7532 - val_det_loss: 1.1422 - val_cls_loss: 0.7370 - val_box_loss: 0.0081 - val_reg_l2_loss: 0.0658 - val_loss: 1.2080\n",
      "Epoch 49/50\n",
      "96/96 [==============================] - 48s 503ms/step - det_loss: 0.7482 - cls_loss: 0.4810 - box_loss: 0.0053 - reg_l2_loss: 0.0658 - loss: 0.8140 - learning_rate: 3.4427e-06 - gradient_norm: 2.7783 - val_det_loss: 1.1451 - val_cls_loss: 0.7393 - val_box_loss: 0.0081 - val_reg_l2_loss: 0.0658 - val_loss: 1.2108\n",
      "Epoch 50/50\n",
      "96/96 [==============================] - 53s 554ms/step - det_loss: 0.7505 - cls_loss: 0.4838 - box_loss: 0.0053 - reg_l2_loss: 0.0658 - loss: 0.8162 - learning_rate: 3.4405e-06 - gradient_norm: 2.8368 - val_det_loss: 1.1430 - val_cls_loss: 0.7382 - val_box_loss: 0.0081 - val_reg_l2_loss: 0.0658 - val_loss: 1.2087\n"
     ]
    }
   ],
   "source": [
    "model = object_detector.create(train_data, model_spec=spec, batch_size=8, train_whole_model=True, validation_data=validation_data, epochs=50)"
   ]
  },
  {
   "cell_type": "markdown",
   "id": "fb4952ee",
   "metadata": {},
   "source": [
    "Run on test data"
   ]
  },
  {
   "cell_type": "code",
   "execution_count": 27,
   "id": "18520724",
   "metadata": {},
   "outputs": [
    {
     "name": "stdout",
     "output_type": "stream",
     "text": [
      "2/2 [==============================] - 21s 7s/step\n",
      "\n"
     ]
    },
    {
     "data": {
      "text/plain": [
       "{'AP': 0.206375,\n",
       " 'AP50': 0.28514978,\n",
       " 'AP75': 0.24008648,\n",
       " 'APs': 0.0,\n",
       " 'APm': 0.1387649,\n",
       " 'APl': 0.21842723,\n",
       " 'ARmax1': 0.16211015,\n",
       " 'ARmax10': 0.32523456,\n",
       " 'ARmax100': 0.33753207,\n",
       " 'ARs': 0.0,\n",
       " 'ARm': 0.19437197,\n",
       " 'ARl': 0.37167054,\n",
       " 'AP_/other': 0.3038995,\n",
       " 'AP_/Apple': 0.023664827,\n",
       " 'AP_/Egg': 0.624711,\n",
       " 'AP_/Cucumber': 0.24533091,\n",
       " 'AP_/Onion': 0.31286484,\n",
       " 'AP_/Bell-Pepper': 0.239969,\n",
       " 'AP_/Banana': 0.40257305,\n",
       " 'AP_/Lemon': 0.0,\n",
       " 'AP_/Tomato': 0.16286746,\n",
       " 'AP_/Garlic': 0.13826358,\n",
       " 'AP_/Carrot': 0.19271539,\n",
       " 'AP_/Potato': 0.15178475,\n",
       " 'AP_/Zucchini': 0.07176155,\n",
       " 'AP_/Pumpkin': 0.018844167}"
      ]
     },
     "execution_count": 27,
     "metadata": {},
     "output_type": "execute_result"
    }
   ],
   "source": [
    "model.evaluate(test_data)"
   ]
  },
  {
   "cell_type": "markdown",
   "id": "57ae545d",
   "metadata": {},
   "source": [
    "Export the model to tflite model"
   ]
  },
  {
   "cell_type": "code",
   "execution_count": 24,
   "id": "a168367b",
   "metadata": {},
   "outputs": [
    {
     "name": "stderr",
     "output_type": "stream",
     "text": [
      "2023-11-13 00:52:04.885225: W tensorflow/core/common_runtime/graph_constructor.cc:803] Node 'resample_p7/PartitionedCall' has 1 outputs but the _output_shapes attribute specifies shapes for 3 outputs. Output shapes may be inaccurate.\n"
     ]
    },
    {
     "name": "stdout",
     "output_type": "stream",
     "text": [
      "Estimated count of arithmetic ops: 1.797 G  ops, equivalently 0.898 G  MACs\n"
     ]
    },
    {
     "name": "stderr",
     "output_type": "stream",
     "text": [
      "2023-11-13 00:52:14.790028: W tensorflow/compiler/mlir/lite/python/tf_tfl_flatbuffer_helpers.cc:357] Ignored output_format.\n",
      "2023-11-13 00:52:14.790063: W tensorflow/compiler/mlir/lite/python/tf_tfl_flatbuffer_helpers.cc:360] Ignored drop_control_dependency.\n",
      "2023-11-13 00:52:14.793011: I tensorflow/cc/saved_model/reader.cc:43] Reading SavedModel from: /tmp/tmpjkoegxl0\n",
      "2023-11-13 00:52:14.842613: I tensorflow/cc/saved_model/reader.cc:78] Reading meta graph with tags { serve }\n",
      "2023-11-13 00:52:14.842646: I tensorflow/cc/saved_model/reader.cc:119] Reading SavedModel debug info (if present) from: /tmp/tmpjkoegxl0\n",
      "2023-11-13 00:52:15.014224: I tensorflow/cc/saved_model/loader.cc:228] Restoring SavedModel bundle.\n",
      "2023-11-13 00:52:16.130482: I tensorflow/cc/saved_model/loader.cc:212] Running initialization op on SavedModel bundle at path: /tmp/tmpjkoegxl0\n",
      "2023-11-13 00:52:16.587339: I tensorflow/cc/saved_model/loader.cc:301] SavedModel load for tags { serve }; Status: success: OK. Took 1794787 microseconds.\n",
      "2023-11-13 00:52:18.507524: I tensorflow/compiler/mlir/lite/flatbuffer_export.cc:1963] Estimated count of arithmetic ops: 1.797 G  ops, equivalently 0.898 G  MACs\n",
      "\n"
     ]
    },
    {
     "name": "stdout",
     "output_type": "stream",
     "text": [
      "Estimated count of arithmetic ops: 1.797 G  ops, equivalently 0.898 G  MACs\n"
     ]
    },
    {
     "name": "stderr",
     "output_type": "stream",
     "text": [
      "fully_quantize: 0, inference_type: 6, input_inference_type: 3, output_inference_type: 0\n",
      "2023-11-13 00:53:28.994994: I tensorflow/compiler/mlir/lite/flatbuffer_export.cc:1963] Estimated count of arithmetic ops: 1.797 G  ops, equivalently 0.898 G  MACs\n",
      "\n"
     ]
    }
   ],
   "source": [
    "model.export(export_dir='models/new_model_900_e50')"
   ]
  },
  {
   "cell_type": "markdown",
   "id": "c1d704b3",
   "metadata": {},
   "source": [
    "Run inference script for visual output"
   ]
  },
  {
   "cell_type": "code",
   "execution_count": 30,
   "id": "0344fa93",
   "metadata": {
    "vscode": {
     "languageId": "shellscript"
    }
   },
   "outputs": [
    {
     "name": "stderr",
     "output_type": "stream",
     "text": [
      "  0%|          | 0/96 [00:00<?, ?it/s]"
     ]
    },
    {
     "name": "stderr",
     "output_type": "stream",
     "text": [
      "  1%|          | 1/96 [00:01<02:17,  1.45s/it]"
     ]
    },
    {
     "name": "stdout",
     "output_type": "stream",
     "text": [
      "Prediction saved to output_inference/prediction_ac0ed1b0-d9cac84833465320_IMG_20230809_130228_HDR.jpg\n"
     ]
    },
    {
     "name": "stderr",
     "output_type": "stream",
     "text": [
      "  2%|▏         | 2/96 [00:02<02:16,  1.46s/it]"
     ]
    },
    {
     "name": "stdout",
     "output_type": "stream",
     "text": [
      "Prediction saved to output_inference/prediction_a651e069-4888f0ad0981b6e0_20230907_120546.jpg\n"
     ]
    },
    {
     "name": "stderr",
     "output_type": "stream",
     "text": [
      "  3%|▎         | 3/96 [00:04<02:16,  1.47s/it]"
     ]
    },
    {
     "name": "stdout",
     "output_type": "stream",
     "text": [
      "Prediction saved to output_inference/prediction_b33c4c6d-8c7f53cd61231cb4_20230712_184216.jpg\n"
     ]
    },
    {
     "name": "stderr",
     "output_type": "stream",
     "text": [
      "  4%|▍         | 4/96 [00:05<02:13,  1.46s/it]"
     ]
    },
    {
     "name": "stdout",
     "output_type": "stream",
     "text": [
      "Prediction saved to output_inference/prediction_827cf03b-573e84c3ee4a9b63_20230707_075853.jpg\n"
     ]
    },
    {
     "name": "stderr",
     "output_type": "stream",
     "text": [
      "  5%|▌         | 5/96 [00:07<02:12,  1.45s/it]"
     ]
    },
    {
     "name": "stdout",
     "output_type": "stream",
     "text": [
      "Prediction saved to output_inference/prediction_66daeabc-fc5c7c7143d5c8aa_F9631AE8-F84C-454E-A64C-C1681EB2A5B5.jpeg\n"
     ]
    },
    {
     "name": "stderr",
     "output_type": "stream",
     "text": [
      "  6%|▋         | 6/96 [00:08<02:10,  1.46s/it]"
     ]
    },
    {
     "name": "stdout",
     "output_type": "stream",
     "text": [
      "Prediction saved to output_inference/prediction_c566d9df-a508f453e78266d8_20230702_151215.jpg\n"
     ]
    },
    {
     "name": "stderr",
     "output_type": "stream",
     "text": [
      "  7%|▋         | 7/96 [00:10<02:10,  1.46s/it]"
     ]
    },
    {
     "name": "stdout",
     "output_type": "stream",
     "text": [
      "Prediction saved to output_inference/prediction_8ac5d141-8c497e96ed234c6a_16903118608242040818025011136096.jpg\n"
     ]
    },
    {
     "name": "stderr",
     "output_type": "stream",
     "text": [
      "  8%|▊         | 8/96 [00:11<02:08,  1.46s/it]"
     ]
    },
    {
     "name": "stdout",
     "output_type": "stream",
     "text": [
      "Prediction saved to output_inference/prediction_62924bda-5328b3cc4e7df0b4_0EC20CE3-4240-4715-B5A0-70C73D3A3D6C.jpeg\n"
     ]
    },
    {
     "name": "stderr",
     "output_type": "stream",
     "text": [
      "  9%|▉         | 9/96 [00:13<02:06,  1.46s/it]"
     ]
    },
    {
     "name": "stdout",
     "output_type": "stream",
     "text": [
      "Prediction saved to output_inference/prediction_c76727c6-9cdd8edc90278f47_20230814_164734.jpg\n"
     ]
    },
    {
     "name": "stderr",
     "output_type": "stream",
     "text": [
      " 10%|█         | 10/96 [00:14<02:05,  1.46s/it]"
     ]
    },
    {
     "name": "stdout",
     "output_type": "stream",
     "text": [
      "Prediction saved to output_inference/prediction_8f886102-f32a646689eb11ac_9408F590-421E-467E-984E-B383F2F9F21A.jpeg\n"
     ]
    },
    {
     "name": "stderr",
     "output_type": "stream",
     "text": [
      " 11%|█▏        | 11/96 [00:16<02:03,  1.45s/it]"
     ]
    },
    {
     "name": "stdout",
     "output_type": "stream",
     "text": [
      "Prediction saved to output_inference/prediction_93868e15-674747efcb51097c_20230730_095404.jpg\n"
     ]
    },
    {
     "name": "stderr",
     "output_type": "stream",
     "text": [
      " 12%|█▎        | 12/96 [00:17<02:01,  1.45s/it]"
     ]
    },
    {
     "name": "stdout",
     "output_type": "stream",
     "text": [
      "Prediction saved to output_inference/prediction_03f904f5-a23345bd8126b451_IMG_20230904_223949.jpg\n"
     ]
    },
    {
     "name": "stderr",
     "output_type": "stream",
     "text": [
      " 14%|█▎        | 13/96 [00:18<02:00,  1.45s/it]"
     ]
    },
    {
     "name": "stdout",
     "output_type": "stream",
     "text": [
      "Prediction saved to output_inference/prediction_283a5e81-c636255ff308c0d8_IMG_20230825_195947.jpg\n"
     ]
    },
    {
     "name": "stderr",
     "output_type": "stream",
     "text": [
      " 15%|█▍        | 14/96 [00:20<01:59,  1.46s/it]"
     ]
    },
    {
     "name": "stdout",
     "output_type": "stream",
     "text": [
      "Prediction saved to output_inference/prediction_ae6cab8e-0957c5685a9321e4_20230817_175038.jpg\n"
     ]
    },
    {
     "name": "stderr",
     "output_type": "stream",
     "text": [
      " 16%|█▌        | 15/96 [00:21<01:58,  1.46s/it]"
     ]
    },
    {
     "name": "stdout",
     "output_type": "stream",
     "text": [
      "Prediction saved to output_inference/prediction_a7fe0621-52defd00dfbf17e2_20230619_064811.jpg\n"
     ]
    },
    {
     "name": "stderr",
     "output_type": "stream",
     "text": [
      " 17%|█▋        | 16/96 [00:23<01:56,  1.46s/it]"
     ]
    },
    {
     "name": "stdout",
     "output_type": "stream",
     "text": [
      "Prediction saved to output_inference/prediction_4175ef7b-f38db92071ead5dd_20230630_100105.jpg\n"
     ]
    },
    {
     "name": "stderr",
     "output_type": "stream",
     "text": [
      " 18%|█▊        | 17/96 [00:24<01:55,  1.46s/it]"
     ]
    },
    {
     "name": "stdout",
     "output_type": "stream",
     "text": [
      "Prediction saved to output_inference/prediction_bb2c1dac-4926ac831e7cb06b_1692360769177226693782338383996.jpg\n"
     ]
    },
    {
     "name": "stderr",
     "output_type": "stream",
     "text": [
      " 19%|█▉        | 18/96 [00:26<01:53,  1.45s/it]"
     ]
    },
    {
     "name": "stdout",
     "output_type": "stream",
     "text": [
      "Prediction saved to output_inference/prediction_e5067369-8092b5abf68367e1_20230819_133129.jpg\n"
     ]
    },
    {
     "name": "stderr",
     "output_type": "stream",
     "text": [
      " 20%|█▉        | 19/96 [00:27<01:51,  1.45s/it]"
     ]
    },
    {
     "name": "stdout",
     "output_type": "stream",
     "text": [
      "Prediction saved to output_inference/prediction_9a9c9e97-bb0623160aff909f_IMG_20230812_113251.jpg\n"
     ]
    },
    {
     "name": "stderr",
     "output_type": "stream",
     "text": [
      " 21%|██        | 20/96 [00:29<01:49,  1.44s/it]"
     ]
    },
    {
     "name": "stdout",
     "output_type": "stream",
     "text": [
      "Prediction saved to output_inference/prediction_9f0d712e-893ea31ddd2a7f37_7395356D-A1CA-47BB-99B4-79B5C0025074.jpeg\n"
     ]
    },
    {
     "name": "stderr",
     "output_type": "stream",
     "text": [
      " 22%|██▏       | 21/96 [00:30<01:49,  1.45s/it]"
     ]
    },
    {
     "name": "stdout",
     "output_type": "stream",
     "text": [
      "Prediction saved to output_inference/prediction_b02e5002-592b702bd8683509_IMG20230715220616.jpg\n"
     ]
    },
    {
     "name": "stderr",
     "output_type": "stream",
     "text": [
      " 23%|██▎       | 22/96 [00:32<01:47,  1.45s/it]"
     ]
    },
    {
     "name": "stdout",
     "output_type": "stream",
     "text": [
      "Prediction saved to output_inference/prediction_4459d782-0c6597d3b3d80fdf_IMG_20230817_124121_HDR.jpg\n"
     ]
    },
    {
     "name": "stderr",
     "output_type": "stream",
     "text": [
      " 24%|██▍       | 23/96 [00:33<01:46,  1.46s/it]"
     ]
    },
    {
     "name": "stdout",
     "output_type": "stream",
     "text": [
      "Prediction saved to output_inference/prediction_a16d065c-a8162465d82a4fbc_IMG_20230721_122617.jpg\n"
     ]
    },
    {
     "name": "stderr",
     "output_type": "stream",
     "text": [
      " 25%|██▌       | 24/96 [00:34<01:44,  1.45s/it]"
     ]
    },
    {
     "name": "stdout",
     "output_type": "stream",
     "text": [
      "Prediction saved to output_inference/prediction_2a765fb7-0ba0436acfee95cc_IMG_20230720_191046.jpg\n"
     ]
    },
    {
     "name": "stderr",
     "output_type": "stream",
     "text": [
      " 26%|██▌       | 25/96 [00:36<01:43,  1.46s/it]"
     ]
    },
    {
     "name": "stdout",
     "output_type": "stream",
     "text": [
      "Prediction saved to output_inference/prediction_3e8d2f6f-429fedcb35487953_20230625_085630.jpg\n"
     ]
    },
    {
     "name": "stderr",
     "output_type": "stream",
     "text": [
      " 27%|██▋       | 26/96 [00:37<01:42,  1.47s/it]"
     ]
    },
    {
     "name": "stdout",
     "output_type": "stream",
     "text": [
      "Prediction saved to output_inference/prediction_6188ca91-1a474fbd2f02a07f_Screenshot_20230813_100237_Gallery.jpg\n"
     ]
    },
    {
     "name": "stderr",
     "output_type": "stream",
     "text": [
      " 28%|██▊       | 27/96 [00:39<01:40,  1.46s/it]"
     ]
    },
    {
     "name": "stdout",
     "output_type": "stream",
     "text": [
      "Prediction saved to output_inference/prediction_a6653522-62fa376d86d03f2c_IMG_20230819_112813.jpg\n"
     ]
    },
    {
     "name": "stderr",
     "output_type": "stream",
     "text": [
      " 29%|██▉       | 28/96 [00:40<01:39,  1.46s/it]"
     ]
    },
    {
     "name": "stdout",
     "output_type": "stream",
     "text": [
      "Prediction saved to output_inference/prediction_55fd418d-9eb3ad10218498d2_IMG_20230813_200325.jpg\n"
     ]
    },
    {
     "name": "stderr",
     "output_type": "stream",
     "text": [
      " 30%|███       | 29/96 [00:42<01:38,  1.46s/it]"
     ]
    },
    {
     "name": "stdout",
     "output_type": "stream",
     "text": [
      "Prediction saved to output_inference/prediction_e730a61e-ec1b94ec25f0071d_IMG_20230817_123733_HDR.jpg\n"
     ]
    },
    {
     "name": "stderr",
     "output_type": "stream",
     "text": [
      " 31%|███▏      | 30/96 [00:43<01:36,  1.46s/it]"
     ]
    },
    {
     "name": "stdout",
     "output_type": "stream",
     "text": [
      "Prediction saved to output_inference/prediction_665a9d0e-5b1216defd825027_IMG_20230829_140623.jpg\n"
     ]
    },
    {
     "name": "stderr",
     "output_type": "stream",
     "text": [
      " 32%|███▏      | 31/96 [00:45<01:34,  1.46s/it]"
     ]
    },
    {
     "name": "stdout",
     "output_type": "stream",
     "text": [
      "Prediction saved to output_inference/prediction_c2376178-9058295a2f32d7b8_IMG_20230814_212259.jpg\n"
     ]
    },
    {
     "name": "stderr",
     "output_type": "stream",
     "text": [
      " 33%|███▎      | 32/96 [00:46<01:33,  1.46s/it]"
     ]
    },
    {
     "name": "stdout",
     "output_type": "stream",
     "text": [
      "Prediction saved to output_inference/prediction_ef21d3c3-4f7b2714647a7a01_IMG_20230809_145431.jpg\n"
     ]
    },
    {
     "name": "stderr",
     "output_type": "stream",
     "text": [
      " 34%|███▍      | 33/96 [00:48<01:32,  1.46s/it]"
     ]
    },
    {
     "name": "stdout",
     "output_type": "stream",
     "text": [
      "Prediction saved to output_inference/prediction_710e6f40-b6150b69e0144ffc_20230704_153406.jpg\n"
     ]
    },
    {
     "name": "stderr",
     "output_type": "stream",
     "text": [
      " 35%|███▌      | 34/96 [00:49<01:30,  1.46s/it]"
     ]
    },
    {
     "name": "stdout",
     "output_type": "stream",
     "text": [
      "Prediction saved to output_inference/prediction_8a71cc18-dbf7e7efa1dedc71_20230814_164331.jpg\n"
     ]
    },
    {
     "name": "stderr",
     "output_type": "stream",
     "text": [
      " 36%|███▋      | 35/96 [00:51<01:28,  1.46s/it]"
     ]
    },
    {
     "name": "stdout",
     "output_type": "stream",
     "text": [
      "Prediction saved to output_inference/prediction_ad816143-6d0e372442741a2e_IMG_20230709_193126_HDR.jpg\n"
     ]
    },
    {
     "name": "stderr",
     "output_type": "stream",
     "text": [
      " 38%|███▊      | 36/96 [00:52<01:27,  1.46s/it]"
     ]
    },
    {
     "name": "stdout",
     "output_type": "stream",
     "text": [
      "Prediction saved to output_inference/prediction_45a4889b-31579bd26d74194b_308449CE-8C47-4C52-883D-7748A734EC2B.jpeg\n"
     ]
    },
    {
     "name": "stderr",
     "output_type": "stream",
     "text": [
      " 39%|███▊      | 37/96 [00:53<01:25,  1.45s/it]"
     ]
    },
    {
     "name": "stdout",
     "output_type": "stream",
     "text": [
      "Prediction saved to output_inference/prediction_2b559b55-fa82bb491a60c4de_20230730_095219.jpg\n"
     ]
    },
    {
     "name": "stderr",
     "output_type": "stream",
     "text": [
      " 40%|███▉      | 38/96 [00:55<01:23,  1.44s/it]"
     ]
    },
    {
     "name": "stdout",
     "output_type": "stream",
     "text": [
      "Prediction saved to output_inference/prediction_951ec5cd-7d9e3909b58ae0b7_IMG_20230703_192030.jpg\n"
     ]
    },
    {
     "name": "stderr",
     "output_type": "stream",
     "text": [
      " 41%|████      | 39/96 [00:56<01:22,  1.45s/it]"
     ]
    },
    {
     "name": "stdout",
     "output_type": "stream",
     "text": [
      "Prediction saved to output_inference/prediction_937e5572-2efcdf1a3e434b97_20230625_134825.jpg\n"
     ]
    },
    {
     "name": "stderr",
     "output_type": "stream",
     "text": [
      " 42%|████▏     | 40/96 [00:58<01:21,  1.46s/it]"
     ]
    },
    {
     "name": "stdout",
     "output_type": "stream",
     "text": [
      "Prediction saved to output_inference/prediction_40826229-fca775b231377ff7_20230712_190003.jpg\n"
     ]
    },
    {
     "name": "stderr",
     "output_type": "stream",
     "text": [
      " 43%|████▎     | 41/96 [00:59<01:19,  1.45s/it]"
     ]
    },
    {
     "name": "stdout",
     "output_type": "stream",
     "text": [
      "Prediction saved to output_inference/prediction_4ca91e75-68b4236a85916372_IMG_20230629_205322.jpg\n"
     ]
    },
    {
     "name": "stderr",
     "output_type": "stream",
     "text": [
      " 44%|████▍     | 42/96 [01:01<01:18,  1.46s/it]"
     ]
    },
    {
     "name": "stdout",
     "output_type": "stream",
     "text": [
      "Prediction saved to output_inference/prediction_245517bf-63b2aed8a53fc6c3_IMG_20230714_205153.jpg\n"
     ]
    },
    {
     "name": "stderr",
     "output_type": "stream",
     "text": [
      " 45%|████▍     | 43/96 [01:02<01:16,  1.45s/it]"
     ]
    },
    {
     "name": "stdout",
     "output_type": "stream",
     "text": [
      "Prediction saved to output_inference/prediction_c1486333-1a4bcf760f864d72_IMG_20230805_164725.jpg\n"
     ]
    },
    {
     "name": "stderr",
     "output_type": "stream",
     "text": [
      " 46%|████▌     | 44/96 [01:04<01:15,  1.45s/it]"
     ]
    },
    {
     "name": "stdout",
     "output_type": "stream",
     "text": [
      "Prediction saved to output_inference/prediction_bf08c975-6d32378b7da49aab_20230623_141643.jpg\n"
     ]
    },
    {
     "name": "stderr",
     "output_type": "stream",
     "text": [
      " 47%|████▋     | 45/96 [01:05<01:13,  1.44s/it]"
     ]
    },
    {
     "name": "stdout",
     "output_type": "stream",
     "text": [
      "Prediction saved to output_inference/prediction_9699dba9-371df6c6d6fc8162_20230709_100415.jpg\n"
     ]
    },
    {
     "name": "stderr",
     "output_type": "stream",
     "text": [
      " 48%|████▊     | 46/96 [01:06<01:12,  1.45s/it]"
     ]
    },
    {
     "name": "stdout",
     "output_type": "stream",
     "text": [
      "Prediction saved to output_inference/prediction_8cc6c2d3-8016cac644432107_IMG20230715220305.jpg\n"
     ]
    },
    {
     "name": "stderr",
     "output_type": "stream",
     "text": [
      " 49%|████▉     | 47/96 [01:08<01:11,  1.45s/it]"
     ]
    },
    {
     "name": "stdout",
     "output_type": "stream",
     "text": [
      "Prediction saved to output_inference/prediction_f1448350-b0d70c26548e3dab_16913843043829198808218909284683.jpg\n"
     ]
    },
    {
     "name": "stderr",
     "output_type": "stream",
     "text": [
      " 50%|█████     | 48/96 [01:09<01:09,  1.45s/it]"
     ]
    },
    {
     "name": "stdout",
     "output_type": "stream",
     "text": [
      "Prediction saved to output_inference/prediction_55aec791-1b1f64804e877883_897a68621c44087c_IMG_20230223_154435_HDR.jpg\n"
     ]
    },
    {
     "name": "stderr",
     "output_type": "stream",
     "text": [
      " 51%|█████     | 49/96 [01:11<01:07,  1.44s/it]"
     ]
    },
    {
     "name": "stdout",
     "output_type": "stream",
     "text": [
      "Prediction saved to output_inference/prediction_6009eb2c-fbc8b41ac9961b84_49629182-BCC4-4374-9879-8A8E3D3FDF48.jpeg\n"
     ]
    },
    {
     "name": "stderr",
     "output_type": "stream",
     "text": [
      " 52%|█████▏    | 50/96 [01:12<01:06,  1.44s/it]"
     ]
    },
    {
     "name": "stdout",
     "output_type": "stream",
     "text": [
      "Prediction saved to output_inference/prediction_d155bc8c-42c331d4fda629f1_031AEBEC-32ED-4CB4-8456-865FE228C5A8.jpeg\n"
     ]
    },
    {
     "name": "stderr",
     "output_type": "stream",
     "text": [
      " 53%|█████▎    | 51/96 [01:14<01:04,  1.44s/it]"
     ]
    },
    {
     "name": "stdout",
     "output_type": "stream",
     "text": [
      "Prediction saved to output_inference/prediction_06f6bef0-c49665cbfc44b115_20230819_132618.jpg\n"
     ]
    },
    {
     "name": "stderr",
     "output_type": "stream",
     "text": [
      " 54%|█████▍    | 52/96 [01:15<01:03,  1.45s/it]"
     ]
    },
    {
     "name": "stdout",
     "output_type": "stream",
     "text": [
      "Prediction saved to output_inference/prediction_dd0dde58-111ff4f3c812b9fb_F8FEFBF1-569E-4E6D-B245-2C3646029F95.jpeg\n"
     ]
    },
    {
     "name": "stderr",
     "output_type": "stream",
     "text": [
      " 55%|█████▌    | 53/96 [01:17<01:01,  1.44s/it]"
     ]
    },
    {
     "name": "stdout",
     "output_type": "stream",
     "text": [
      "Prediction saved to output_inference/prediction_79e91862-05fe1836682d00a9_IMG_20230809_130343_HDR.jpg\n"
     ]
    },
    {
     "name": "stderr",
     "output_type": "stream",
     "text": [
      " 56%|█████▋    | 54/96 [01:18<01:00,  1.44s/it]"
     ]
    },
    {
     "name": "stdout",
     "output_type": "stream",
     "text": [
      "Prediction saved to output_inference/prediction_5c30dd60-60062fde5962fa59_20230705_193711.jpg\n"
     ]
    },
    {
     "name": "stderr",
     "output_type": "stream",
     "text": [
      " 57%|█████▋    | 55/96 [01:19<00:58,  1.44s/it]"
     ]
    },
    {
     "name": "stdout",
     "output_type": "stream",
     "text": [
      "Prediction saved to output_inference/prediction_7faf9ae1-f8653b84f351474e_IMG_0622.jpeg\n"
     ]
    },
    {
     "name": "stderr",
     "output_type": "stream",
     "text": [
      " 58%|█████▊    | 56/96 [01:21<00:57,  1.45s/it]"
     ]
    },
    {
     "name": "stdout",
     "output_type": "stream",
     "text": [
      "Prediction saved to output_inference/prediction_ccb4a679-f4883b29f7a3c977_IMG_7602.jpeg\n"
     ]
    },
    {
     "name": "stderr",
     "output_type": "stream",
     "text": [
      " 59%|█████▉    | 57/96 [01:22<00:56,  1.44s/it]"
     ]
    },
    {
     "name": "stdout",
     "output_type": "stream",
     "text": [
      "Prediction saved to output_inference/prediction_74a3b814-207dbb1cc65022b9_IMG_20230809_130253_HDR.jpg\n"
     ]
    },
    {
     "name": "stderr",
     "output_type": "stream",
     "text": [
      " 60%|██████    | 58/96 [01:24<00:54,  1.45s/it]"
     ]
    },
    {
     "name": "stdout",
     "output_type": "stream",
     "text": [
      "Prediction saved to output_inference/prediction_dea8100a-d2aa4a97262898c9_20230705_190948.jpg\n"
     ]
    },
    {
     "name": "stderr",
     "output_type": "stream",
     "text": [
      " 61%|██████▏   | 59/96 [01:25<00:53,  1.45s/it]"
     ]
    },
    {
     "name": "stdout",
     "output_type": "stream",
     "text": [
      "Prediction saved to output_inference/prediction_9c2f6f87-171e9b6b6331786a_C55A7397-E2F1-48AB-823D-2C53B82D377E.jpeg\n"
     ]
    },
    {
     "name": "stderr",
     "output_type": "stream",
     "text": [
      " 62%|██████▎   | 60/96 [01:27<00:52,  1.45s/it]"
     ]
    },
    {
     "name": "stdout",
     "output_type": "stream",
     "text": [
      "Prediction saved to output_inference/prediction_aac3d8d4-f333eafdc8e080df_B12CC8A5-28D8-45F4-BAFE-4C5AFC2620B7.jpeg\n"
     ]
    },
    {
     "name": "stderr",
     "output_type": "stream",
     "text": [
      " 64%|██████▎   | 61/96 [01:28<00:50,  1.45s/it]"
     ]
    },
    {
     "name": "stdout",
     "output_type": "stream",
     "text": [
      "Prediction saved to output_inference/prediction_5dd6a9a0-f59759ebdc58d73e_1CAE4888-A29D-4339-BA49-5142B462C03F.jpeg\n"
     ]
    },
    {
     "name": "stderr",
     "output_type": "stream",
     "text": [
      " 65%|██████▍   | 62/96 [01:30<00:49,  1.46s/it]"
     ]
    },
    {
     "name": "stdout",
     "output_type": "stream",
     "text": [
      "Prediction saved to output_inference/prediction_9a8a0abf-95608f15a38f2c61_1693656733934715151523718565071.jpg\n"
     ]
    },
    {
     "name": "stderr",
     "output_type": "stream",
     "text": [
      " 66%|██████▌   | 63/96 [01:31<00:47,  1.45s/it]"
     ]
    },
    {
     "name": "stdout",
     "output_type": "stream",
     "text": [
      "Prediction saved to output_inference/prediction_263780d7-da3703786650a238_20230907_121011.jpg\n"
     ]
    },
    {
     "name": "stderr",
     "output_type": "stream",
     "text": [
      " 67%|██████▋   | 64/96 [01:32<00:46,  1.45s/it]"
     ]
    },
    {
     "name": "stdout",
     "output_type": "stream",
     "text": [
      "Prediction saved to output_inference/prediction_fd61354e-4b54fb9481cbe7f7_16915956695511283409546532489250.jpg\n"
     ]
    },
    {
     "name": "stderr",
     "output_type": "stream",
     "text": [
      " 68%|██████▊   | 65/96 [01:34<00:45,  1.46s/it]"
     ]
    },
    {
     "name": "stdout",
     "output_type": "stream",
     "text": [
      "Prediction saved to output_inference/prediction_0e1c89ae-92e48045d5bcde84_169263447078831645493187950351.jpg\n"
     ]
    },
    {
     "name": "stderr",
     "output_type": "stream",
     "text": [
      " 69%|██████▉   | 66/96 [01:35<00:43,  1.45s/it]"
     ]
    },
    {
     "name": "stdout",
     "output_type": "stream",
     "text": [
      "Prediction saved to output_inference/prediction_fcbe1646-52f0b2523bd712cc_c3558dc6c362192d_IMG_20230313_182837.jpg\n"
     ]
    },
    {
     "name": "stderr",
     "output_type": "stream",
     "text": [
      " 70%|██████▉   | 67/96 [01:37<00:41,  1.45s/it]"
     ]
    },
    {
     "name": "stdout",
     "output_type": "stream",
     "text": [
      "Prediction saved to output_inference/prediction_185cd3ae-2a8ad4111f473936_20230712_185206.jpg\n"
     ]
    },
    {
     "name": "stderr",
     "output_type": "stream",
     "text": [
      " 71%|███████   | 68/96 [01:38<00:40,  1.44s/it]"
     ]
    },
    {
     "name": "stdout",
     "output_type": "stream",
     "text": [
      "Prediction saved to output_inference/prediction_5af70483-93be4c9a8f4a600e_10090E6D-300C-4E6C-B995-CDD16F80528B.jpeg\n"
     ]
    },
    {
     "name": "stderr",
     "output_type": "stream",
     "text": [
      " 72%|███████▏  | 69/96 [01:40<00:39,  1.45s/it]"
     ]
    },
    {
     "name": "stdout",
     "output_type": "stream",
     "text": [
      "Prediction saved to output_inference/prediction_e1488d8b-b404f00022414743_IMG_20230805_165323.jpg\n"
     ]
    },
    {
     "name": "stderr",
     "output_type": "stream",
     "text": [
      " 73%|███████▎  | 70/96 [01:41<00:37,  1.45s/it]"
     ]
    },
    {
     "name": "stdout",
     "output_type": "stream",
     "text": [
      "Prediction saved to output_inference/prediction_19d40165-7f8cd7dff00708b4_65EFB5C3-B088-4095-A427-ABBF680CE3F2.jpeg\n"
     ]
    },
    {
     "name": "stderr",
     "output_type": "stream",
     "text": [
      " 74%|███████▍  | 71/96 [01:43<00:35,  1.44s/it]"
     ]
    },
    {
     "name": "stdout",
     "output_type": "stream",
     "text": [
      "Prediction saved to output_inference/prediction_37951887-a8e637c74a1a6d64_image.jpg\n"
     ]
    },
    {
     "name": "stderr",
     "output_type": "stream",
     "text": [
      " 75%|███████▌  | 72/96 [01:44<00:34,  1.44s/it]"
     ]
    },
    {
     "name": "stdout",
     "output_type": "stream",
     "text": [
      "Prediction saved to output_inference/prediction_7e312195-5c743ea3aabcd633_92CBCC1E-F445-43E8-B015-5AB9257FF4F8.jpeg\n"
     ]
    },
    {
     "name": "stderr",
     "output_type": "stream",
     "text": [
      " 76%|███████▌  | 73/96 [01:45<00:33,  1.44s/it]"
     ]
    },
    {
     "name": "stdout",
     "output_type": "stream",
     "text": [
      "Prediction saved to output_inference/prediction_8489d0bf-4a6e07885bd45478_20230702_150926.jpg\n"
     ]
    },
    {
     "name": "stderr",
     "output_type": "stream",
     "text": [
      " 77%|███████▋  | 74/96 [01:47<00:31,  1.44s/it]"
     ]
    },
    {
     "name": "stdout",
     "output_type": "stream",
     "text": [
      "Prediction saved to output_inference/prediction_6cdc4064-89ae5a591db359a9_image.jpg\n"
     ]
    },
    {
     "name": "stderr",
     "output_type": "stream",
     "text": [
      " 78%|███████▊  | 75/96 [01:48<00:30,  1.44s/it]"
     ]
    },
    {
     "name": "stdout",
     "output_type": "stream",
     "text": [
      "Prediction saved to output_inference/prediction_56fc0c97-190fd0bfa2f152f4_IMG_20230903_210430.jpg\n"
     ]
    },
    {
     "name": "stderr",
     "output_type": "stream",
     "text": [
      " 79%|███████▉  | 76/96 [01:50<00:28,  1.45s/it]"
     ]
    },
    {
     "name": "stdout",
     "output_type": "stream",
     "text": [
      "Prediction saved to output_inference/prediction_2e89e731-2dfac800a971854e_IMG_0706.jpeg\n"
     ]
    },
    {
     "name": "stderr",
     "output_type": "stream",
     "text": [
      " 80%|████████  | 77/96 [01:51<00:27,  1.44s/it]"
     ]
    },
    {
     "name": "stdout",
     "output_type": "stream",
     "text": [
      "Prediction saved to output_inference/prediction_82fd6092-02849c7792247b54_16898599695896830867308909345033.jpg\n"
     ]
    },
    {
     "name": "stderr",
     "output_type": "stream",
     "text": [
      " 81%|████████▏ | 78/96 [01:53<00:25,  1.44s/it]"
     ]
    },
    {
     "name": "stdout",
     "output_type": "stream",
     "text": [
      "Prediction saved to output_inference/prediction_e275258d-8e0da25839fbe4ff_ED678BEF-FEA6-4D8A-BB54-1E99AE22847A.jpeg\n"
     ]
    },
    {
     "name": "stderr",
     "output_type": "stream",
     "text": [
      " 82%|████████▏ | 79/96 [01:54<00:24,  1.45s/it]"
     ]
    },
    {
     "name": "stdout",
     "output_type": "stream",
     "text": [
      "Prediction saved to output_inference/prediction_b0d5912d-328e5344bde69620_IMG_8622.jpeg\n"
     ]
    },
    {
     "name": "stderr",
     "output_type": "stream",
     "text": [
      " 83%|████████▎ | 80/96 [01:56<00:23,  1.44s/it]"
     ]
    },
    {
     "name": "stdout",
     "output_type": "stream",
     "text": [
      "Prediction saved to output_inference/prediction_b7f27264-55661e1a0a854d41_68E39A1B-6B6B-43C8-B7DF-620C97D105D1.jpeg\n"
     ]
    },
    {
     "name": "stderr",
     "output_type": "stream",
     "text": [
      " 84%|████████▍ | 81/96 [01:57<00:21,  1.45s/it]"
     ]
    },
    {
     "name": "stdout",
     "output_type": "stream",
     "text": [
      "Prediction saved to output_inference/prediction_d902d31d-9db093a0da3bd423_89BFB786-981F-4530-83BB-AC0DD32461D8.jpeg\n"
     ]
    },
    {
     "name": "stderr",
     "output_type": "stream",
     "text": [
      " 85%|████████▌ | 82/96 [01:58<00:20,  1.45s/it]"
     ]
    },
    {
     "name": "stdout",
     "output_type": "stream",
     "text": [
      "Prediction saved to output_inference/prediction_1e3461f8-04eb93bb1e8d5838_20230712_185027.jpg\n"
     ]
    },
    {
     "name": "stderr",
     "output_type": "stream",
     "text": [
      " 86%|████████▋ | 83/96 [02:00<00:18,  1.46s/it]"
     ]
    },
    {
     "name": "stdout",
     "output_type": "stream",
     "text": [
      "Prediction saved to output_inference/prediction_ba918857-c0dcc73197c71fa0_20230624_102524.jpg\n"
     ]
    },
    {
     "name": "stderr",
     "output_type": "stream",
     "text": [
      " 88%|████████▊ | 84/96 [02:01<00:17,  1.45s/it]"
     ]
    },
    {
     "name": "stdout",
     "output_type": "stream",
     "text": [
      "Prediction saved to output_inference/prediction_f104e8b0-8c55e629c285384d_16878111399906083829119639798896.jpg\n"
     ]
    },
    {
     "name": "stderr",
     "output_type": "stream",
     "text": [
      " 89%|████████▊ | 85/96 [02:03<00:15,  1.45s/it]"
     ]
    },
    {
     "name": "stdout",
     "output_type": "stream",
     "text": [
      "Prediction saved to output_inference/prediction_f845c48f-1cfc4574bcc17dc3_IMG_20230905_132656.jpg\n"
     ]
    },
    {
     "name": "stderr",
     "output_type": "stream",
     "text": [
      " 90%|████████▉ | 86/96 [02:04<00:14,  1.44s/it]"
     ]
    },
    {
     "name": "stdout",
     "output_type": "stream",
     "text": [
      "Prediction saved to output_inference/prediction_92f3414b-85e44a120719a917_IMG_20230714_205042.jpg\n"
     ]
    },
    {
     "name": "stderr",
     "output_type": "stream",
     "text": [
      " 91%|█████████ | 87/96 [02:06<00:13,  1.45s/it]"
     ]
    },
    {
     "name": "stdout",
     "output_type": "stream",
     "text": [
      "Prediction saved to output_inference/prediction_cfc94ea4-e893c9f3087926de_20230809_162633.jpg\n"
     ]
    },
    {
     "name": "stderr",
     "output_type": "stream",
     "text": [
      " 92%|█████████▏| 88/96 [02:07<00:11,  1.44s/it]"
     ]
    },
    {
     "name": "stdout",
     "output_type": "stream",
     "text": [
      "Prediction saved to output_inference/prediction_7bffbfa9-30752fa8496a1ee2_20230705_190609.jpg\n"
     ]
    },
    {
     "name": "stderr",
     "output_type": "stream",
     "text": [
      " 93%|█████████▎| 89/96 [02:09<00:10,  1.44s/it]"
     ]
    },
    {
     "name": "stdout",
     "output_type": "stream",
     "text": [
      "Prediction saved to output_inference/prediction_10ccc627-fd574a0999105e6b_IMG_8586.jpeg\n"
     ]
    },
    {
     "name": "stderr",
     "output_type": "stream",
     "text": [
      " 94%|█████████▍| 90/96 [02:10<00:08,  1.45s/it]"
     ]
    },
    {
     "name": "stdout",
     "output_type": "stream",
     "text": [
      "Prediction saved to output_inference/prediction_b35e4ffb-99e87ea1b951eeab_16931623928096323087605561299833.jpg\n"
     ]
    },
    {
     "name": "stderr",
     "output_type": "stream",
     "text": [
      " 95%|█████████▍| 91/96 [02:12<00:07,  1.45s/it]"
     ]
    },
    {
     "name": "stdout",
     "output_type": "stream",
     "text": [
      "Prediction saved to output_inference/prediction_eb3a04a3-72dea19d917cc360_D28BCD2B-8F57-4CCA-B0E4-87B3443683B7.jpeg\n"
     ]
    },
    {
     "name": "stderr",
     "output_type": "stream",
     "text": [
      " 96%|█████████▌| 92/96 [02:13<00:05,  1.45s/it]"
     ]
    },
    {
     "name": "stdout",
     "output_type": "stream",
     "text": [
      "Prediction saved to output_inference/prediction_f43e810e-26b3805db9aed65e_96553950-5421-4D6B-A2E0-B099DDBBA19F.jpeg\n"
     ]
    },
    {
     "name": "stderr",
     "output_type": "stream",
     "text": [
      " 97%|█████████▋| 93/96 [02:14<00:04,  1.43s/it]"
     ]
    },
    {
     "name": "stdout",
     "output_type": "stream",
     "text": [
      "Prediction saved to output_inference/prediction_d2ee7470-b326f739a899b166_57CB5544-41D2-404F-BEE9-C62475DDD4F7.jpeg\n"
     ]
    },
    {
     "name": "stderr",
     "output_type": "stream",
     "text": [
      " 98%|█████████▊| 94/96 [02:16<00:02,  1.44s/it]"
     ]
    },
    {
     "name": "stdout",
     "output_type": "stream",
     "text": [
      "Prediction saved to output_inference/prediction_817e8228-084fc54a9db713bb_IMG_20230719_131936_HDR.jpg\n"
     ]
    },
    {
     "name": "stderr",
     "output_type": "stream",
     "text": [
      " 99%|█████████▉| 95/96 [02:17<00:01,  1.44s/it]"
     ]
    },
    {
     "name": "stdout",
     "output_type": "stream",
     "text": [
      "Prediction saved to output_inference/prediction_4f03357a-96510c9d0eb73af7_20230815_073826.jpg\n"
     ]
    },
    {
     "name": "stderr",
     "output_type": "stream",
     "text": [
      "100%|██████████| 96/96 [02:19<00:00,  1.45s/it]"
     ]
    },
    {
     "name": "stdout",
     "output_type": "stream",
     "text": [
      "Prediction saved to output_inference/prediction_287807f6-85e6a1d3b1b5dfae_4919E65E-19C8-40C6-8099-AC9E4243B31E.jpeg\n"
     ]
    },
    {
     "name": "stderr",
     "output_type": "stream",
     "text": [
      "\n"
     ]
    }
   ],
   "source": [
    "%run do_inference.py --input_csv annotations_mlflow_shuffled_n.csv\\\n",
    "                       --model_url models/new_model_900_e50/model.tflite --output_dir output_inference"
   ]
  },
  {
   "cell_type": "code",
   "execution_count": null,
   "id": "df379602",
   "metadata": {},
   "outputs": [],
   "source": []
  }
 ],
 "metadata": {
  "kernelspec": {
   "display_name": "Python 3 (ipykernel)",
   "language": "python",
   "name": "python3"
  },
  "language_info": {
   "codemirror_mode": {
    "name": "ipython",
    "version": 3
   },
   "file_extension": ".py",
   "mimetype": "text/x-python",
   "name": "python",
   "nbconvert_exporter": "python",
   "pygments_lexer": "ipython3",
   "version": "3.8.10"
  }
 },
 "nbformat": 4,
 "nbformat_minor": 5
}
