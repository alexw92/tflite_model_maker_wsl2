{
 "cells": [
  {
   "cell_type": "markdown",
   "id": "163f06e7",
   "metadata": {},
   "source": [
    "# Load the pretrained model"
   ]
  },
  {
   "cell_type": "markdown",
   "metadata": {},
   "source": [
    "Archive Images (on Server!)"
   ]
  },
  {
   "cell_type": "code",
   "execution_count": null,
   "metadata": {
    "vscode": {
     "languageId": "shellscript"
    }
   },
   "outputs": [],
   "source": [
    "tar -czvf /home/alex/all_imgs_11_10_23.tar.gz"
   ]
  },
  {
   "cell_type": "markdown",
   "metadata": {},
   "source": [
    "Download archive from server and extract it"
   ]
  },
  {
   "cell_type": "code",
   "execution_count": null,
   "metadata": {
    "vscode": {
     "languageId": "shellscript"
    }
   },
   "outputs": [],
   "source": [
    "scp alex@foodsnapai.com:/home/alex/all_imgs_11_10_23.tar.gz allImgs.tar.gz\n",
    "tar -xzvf allImgs.tar.gz -C /home/alex/allImgs_extracted/"
   ]
  },
  {
   "cell_type": "markdown",
   "metadata": {},
   "source": [
    "Load annotations without Images"
   ]
  },
  {
   "cell_type": "code",
   "execution_count": 61,
   "metadata": {
    "vscode": {
     "languageId": "shellscript"
    }
   },
   "outputs": [
    {
     "name": "stdout",
     "output_type": "stream",
     "text": [
      "  % Total    % Received % Xferd  Average Speed   Time    Time     Time  Current\n",
      "                                 Dload  Upload   Total   Spent    Left  Speed\n",
      "100 2583k  100 2583k    0     0   342k      0  0:00:07  0:00:07 --:--:--  597k\n"
     ]
    }
   ],
   "source": [
    "import os\n",
    "\n",
    "# Get the value of the environment variable\n",
    "labelstudio_token = os.getenv('LABELSTUDIO_TOKEN')\n",
    "annotations_base_filename = \"annotations_test3\"\n",
    "!curl -X GET http://foodsnapai.com:8080/api/projects/1/export?exportType=CSV -H 'Authorization: Token {labelstudio_token}' --output {annotations_base_filename +\".csv\"} "
   ]
  },
  {
   "cell_type": "markdown",
   "metadata": {},
   "source": [
    "Convert annotations and images and preprocess them"
   ]
  },
  {
   "cell_type": "code",
   "execution_count": 62,
   "metadata": {
    "vscode": {
     "languageId": "shellscript"
    }
   },
   "outputs": [],
   "source": [
    "%run 'convert_csv_to_mlflow_csv.py' {annotations_base_filename +\".csv\"} "
   ]
  },
  {
   "cell_type": "code",
   "execution_count": 63,
   "metadata": {
    "vscode": {
     "languageId": "shellscript"
    }
   },
   "outputs": [
    {
     "name": "stdout",
     "output_type": "stream",
     "text": [
      "Skipping automatic class merge.\n",
      "['Tomato', 'Cucumber', 'Bell-Pepper', 'Onion', 'Carrot', 'Banana', 'Egg', 'Scallion', 'Lemon', 'Potato', 'Zucchini', 'Garlic', 'Apple', 'Pumpkin', 'Ginger']\n",
      "Merging classes ['Soysauce', 'Peas', 'Oil', 'Tofu', 'Rice', 'Beans', 'Strawberry', 'Chilli', 'Lentils', 'Milk', 'Avocado', 'Spinach', 'Vinegar', 'Mango', 'Yoghurt', 'Canned-Tomato', 'Corn', 'Pasta', 'Chickpeas', 'Skyr', 'Balsamico', 'Nuts', 'Mushroom', 'Cheese', 'Plantmilk', 'Cauliflower', 'Flour', 'Broccoli', 'Orange', 'Butter', 'Curd', 'Cabagge', 'Lime', 'Eggplant', 'Salad', 'Leek'] to 'other'\n",
      "Train-test-validation split applied to annotations_test3_mlflow_shuffled.csv\n"
     ]
    }
   ],
   "source": [
    "# merge classes here\n",
    "# curret merge string: not:Tomato,Cucumber,Bell-Pepper,Onion,Carrot,Banana,Egg,Scallion,Lemon,Potato,Zucchini,Garlic,Apple,Pumpkin,Ginger\n",
    "%run 'convert_pascal_to_googlecsv.py' --merged_csv {annotations_base_filename +\"_mlflow.csv\"} "
   ]
  },
  {
   "cell_type": "markdown",
   "metadata": {},
   "source": [
    "Now rename the file paths in the file to their actual location (find & replace)"
   ]
  },
  {
   "cell_type": "code",
   "execution_count": 64,
   "metadata": {},
   "outputs": [
    {
     "name": "stdout",
     "output_type": "stream",
     "text": [
      "CSV file 'annotations_test3_mlflow_shuffled.csv' modified with constant path replacing each file path in the second column.\n"
     ]
    }
   ],
   "source": [
    "import csv\n",
    "import os\n",
    "\n",
    "# Constant path to prepend\n",
    "constant_path = '/home/alex/allImgs_extracted_smaller/'\n",
    "\n",
    "# CSV file path\n",
    "csv_file_path = annotations_base_filename +\"_mlflow_shuffled.csv\"\n",
    "\n",
    "# Open the CSV file and modify the paths in the second column\n",
    "with open(csv_file_path, 'r+', newline='') as file:\n",
    "    csv_reader = csv.reader(file)\n",
    "    rows = list(csv_reader)\n",
    "\n",
    "    for row in rows:\n",
    "        if len(row) > 1:  # Ensure the row has at least two columns\n",
    "            # Assuming the file path is in the second column (index 1)\n",
    "            file_path = row[1]\n",
    "            file_name = os.path.basename(file_path)  # Extract the filename from the original path\n",
    "            row[1] = os.path.join(constant_path, file_name)  # Create the new path with the constant path and filename\n",
    "\n",
    "    # Move the file pointer to the beginning\n",
    "    file.seek(0)\n",
    "\n",
    "    # Write the modified rows back to the CSV file\n",
    "    csv_writer = csv.writer(file)\n",
    "    csv_writer.writerows(rows)\n",
    "\n",
    "print(f\"CSV file '{csv_file_path}' modified with constant path replacing each file path in the second column.\")\n",
    "\n"
   ]
  },
  {
   "cell_type": "code",
   "execution_count": 65,
   "metadata": {
    "vscode": {
     "languageId": "shellscript"
    }
   },
   "outputs": [
    {
     "name": "stdout",
     "output_type": "stream",
     "text": [
      "/home/alex/tflite_model_maker_wsl2\n",
      "convert png image files to jpeg imgs\n"
     ]
    },
    {
     "data": {
      "application/vnd.jupyter.widget-view+json": {
       "model_id": "b80644e303ab4cbe96a71952bddeeacd",
       "version_major": 2,
       "version_minor": 0
      },
      "text/plain": [
       "0it [00:00, ?it/s]"
      ]
     },
     "metadata": {},
     "output_type": "display_data"
    },
    {
     "name": "stdout",
     "output_type": "stream",
     "text": [
      "Converted 0\n",
      "Ignored 11599 files because: Not a PNG file\n",
      "Ignored 0 files because: Not found\n"
     ]
    }
   ],
   "source": [
    "!pwd\n",
    "%run 'png_to_jpeg.py' {annotations_base_filename +\"_mlflow_shuffled.csv\"} \n",
    "#%run 'png_to_jpeg.py' annotations1650_mlflow_shuffled_n.csv"
   ]
  },
  {
   "cell_type": "code",
   "execution_count": 66,
   "metadata": {
    "vscode": {
     "languageId": "shellscript"
    }
   },
   "outputs": [],
   "source": [
    "# make images smaller (run only when new images have been loaded)\n",
    "\n",
    "#%run preproc_imgs.py /home/alex/allImgs_extracted /home/alex/allImgs_extracted_smaller 800\n",
    "#%run preproc_imgs.py /mnt/z/annotated_individual/images/ /home/alex/individual_tiny_extracted_smaller 800"
   ]
  },
  {
   "cell_type": "code",
   "execution_count": 67,
   "metadata": {
    "vscode": {
     "languageId": "shellscript"
    }
   },
   "outputs": [],
   "source": [
    "\n",
    "%run normalize_csv.py {annotations_base_filename +\"_mlflow_shuffled.csv\"}  {annotations_base_filename +\"_mlflow_shuffled_n.csv\"} "
   ]
  },
  {
   "cell_type": "markdown",
   "metadata": {},
   "source": [
    "check the stats of the dataset splits"
   ]
  },
  {
   "cell_type": "code",
   "execution_count": 68,
   "metadata": {
    "vscode": {
     "languageId": "shellscript"
    }
   },
   "outputs": [
    {
     "name": "stdout",
     "output_type": "stream",
     "text": [
      "There are 1709 different files in this set\n",
      "There are 16 different classes in this set\n",
      "Classes: other, Apple, Lemon, Tomato, Potato, Cucumber, Ginger, Banana, Egg, Garlic, Bell-Pepper, Onion, Scallion, Zucchini, Carrot, Pumpkin\n",
      "other occurs in 1468 different files\n",
      "Apple occurs in 201 different files\n",
      "Lemon occurs in 244 different files\n",
      "Tomato occurs in 458 different files\n",
      "Potato occurs in 219 different files\n",
      "Cucumber occurs in 428 different files\n",
      "Ginger occurs in 163 different files\n",
      "Banana occurs in 284 different files\n",
      "Egg occurs in 254 different files\n",
      "Garlic occurs in 213 different files\n",
      "Bell-Pepper occurs in 379 different files\n",
      "Onion occurs in 341 different files\n",
      "Scallion occurs in 277 different files\n",
      "Zucchini occurs in 208 different files\n",
      "Carrot occurs in 304 different files\n",
      "Pumpkin occurs in 119 different files\n",
      "\n",
      "Class Distribution in Splits:\n",
      "\n",
      "TRAIN:\n",
      "other: 1177 files (26.27%)\n",
      "Apple: 163 files (3.64%)\n",
      "Lemon: 189 files (4.22%)\n",
      "Tomato: 367 files (8.19%)\n",
      "Potato: 172 files (3.84%)\n",
      "Cucumber: 353 files (7.88%)\n",
      "Ginger: 126 files (2.81%)\n",
      "Banana: 235 files (5.25%)\n",
      "Egg: 205 files (4.58%)\n",
      "Garlic: 172 files (3.84%)\n",
      "Bell-Pepper: 314 files (7.01%)\n",
      "Onion: 274 files (6.12%)\n",
      "Scallion: 224 files (5.0%)\n",
      "Zucchini: 162 files (3.62%)\n",
      "Carrot: 253 files (5.65%)\n",
      "Pumpkin: 94 files (2.1%)\n",
      "\n",
      "TEST:\n",
      "Lemon: 26 files (4.75%)\n",
      "Tomato: 47 files (8.59%)\n",
      "other: 147 files (26.87%)\n",
      "Egg: 23 files (4.2%)\n",
      "Cucumber: 40 files (7.31%)\n",
      "Zucchini: 26 files (4.75%)\n",
      "Banana: 24 files (4.39%)\n",
      "Onion: 35 files (6.4%)\n",
      "Garlic: 26 files (4.75%)\n",
      "Carrot: 27 files (4.94%)\n",
      "Potato: 22 files (4.02%)\n",
      "Bell-Pepper: 35 files (6.4%)\n",
      "Scallion: 25 files (4.57%)\n",
      "Ginger: 21 files (3.84%)\n",
      "Pumpkin: 7 files (1.28%)\n",
      "Apple: 16 files (2.93%)\n",
      "\n",
      "VALIDATE:\n",
      "other: 144 files (27.02%)\n",
      "Banana: 25 files (4.69%)\n",
      "Pumpkin: 18 files (3.38%)\n",
      "Onion: 32 files (6.0%)\n",
      "Carrot: 24 files (4.5%)\n",
      "Scallion: 28 files (5.25%)\n",
      "Egg: 26 files (4.88%)\n",
      "Cucumber: 35 files (6.57%)\n",
      "Potato: 25 files (4.69%)\n",
      "Lemon: 29 files (5.44%)\n",
      "Tomato: 44 files (8.26%)\n",
      "Zucchini: 20 files (3.75%)\n",
      "Bell-Pepper: 30 files (5.63%)\n",
      "Apple: 22 files (4.13%)\n",
      "Garlic: 15 files (2.81%)\n",
      "Ginger: 16 files (3.0%)\n"
     ]
    }
   ],
   "source": [
    "%run 'get_label_stats.py' {annotations_base_filename +\"_mlflow_shuffled_n.csv\"} "
   ]
  },
  {
   "cell_type": "markdown",
   "metadata": {},
   "source": [
    "Now you can start to load the model and train!"
   ]
  },
  {
   "cell_type": "code",
   "execution_count": 75,
   "id": "ba09f9d5",
   "metadata": {},
   "outputs": [],
   "source": [
    "import numpy as np\n",
    "import os\n",
    "\n",
    "from tflite_model_maker.config import QuantizationConfig\n",
    "from tflite_model_maker.config import ExportFormat\n",
    "from tflite_model_maker import model_spec\n",
    "from tflite_model_maker import object_detector\n",
    "\n",
    "import tensorflow as tf\n",
    "assert tf.__version__.startswith('2')\n",
    "\n",
    "tf.get_logger().setLevel('ERROR')\n",
    "from absl import logging\n",
    "logging.set_verbosity(logging.ERROR)\n",
    "\n",
    "model_name = 'efficientdet-lite1' # EfficientDetLite1Spec must also be set accordingly!\n",
    "custom_model_dir_name = 'model_1700'\n",
    "epochs = 50\n",
    "batch_size = 4\n",
    "model_dir = 'models/'+model_name+'/'+custom_model_dir_name+'_e'+str(epochs)+'_b'+str(batch_size)\n",
    "#spec = model_spec.get('efficientdet_lite1')\n",
    "spec = object_detector.EfficientDetLite1Spec( # change this also to correct model spec\n",
    "    model_name = model_name,\n",
    "    model_dir='/home/alex/checkpoints_lite0_1700imgs/',\n",
    "    hparams='grad_checkpoint=true,strategy=gpus',\n",
    "    epochs=epochs, batch_size=batch_size,\n",
    "    steps_per_execution=1, moving_average_decay=0,\n",
    "    var_freeze_expr='(efficientnet|fpn_cells|resample_p6)',\n",
    "    tflite_max_detections=25\n",
    ")\n"
   ]
  },
  {
   "cell_type": "markdown",
   "id": "0f26b4f5",
   "metadata": {},
   "source": [
    "# Load the dataset"
   ]
  },
  {
   "cell_type": "code",
   "execution_count": 76,
   "id": "0ad66896",
   "metadata": {},
   "outputs": [
    {
     "name": "stdout",
     "output_type": "stream",
     "text": [
      "Current Working Directory: /home/alex/tflite_model_maker_wsl2\n",
      "The file '/home/alex/tflite_model_maker_wsl2/annotations_test3_mlflow_shuffled_n.csv' exists.\n"
     ]
    }
   ],
   "source": [
    "import os\n",
    "current_directory = os.getcwd()\n",
    "print(\"Current Working Directory:\", current_directory)\n",
    "file_path = '/home/alex/tflite_model_maker_wsl2/'+annotations_base_filename +\"_mlflow_shuffled_n.csv\"\n",
    "\n",
    "if os.path.exists(file_path):\n",
    "    print(f\"The file '{file_path}' exists.\")\n",
    "train_data, validation_data, test_data = object_detector.DataLoader.from_csv(file_path)\n"
   ]
  },
  {
   "cell_type": "markdown",
   "id": "a6ce5fa6",
   "metadata": {},
   "source": [
    "# Train the model"
   ]
  },
  {
   "cell_type": "code",
   "execution_count": 77,
   "id": "6ca0f89a",
   "metadata": {},
   "outputs": [
    {
     "name": "stdout",
     "output_type": "stream",
     "text": [
      "Epoch 1/50\n",
      "341/341 [==============================] - 229s 616ms/step - det_loss: 1.4903 - cls_loss: 0.9690 - box_loss: 0.0104 - reg_l2_loss: 0.0732 - loss: 1.5635 - learning_rate: 0.0065 - gradient_norm: 1.9796 - val_det_loss: 1.5545 - val_cls_loss: 1.0088 - val_box_loss: 0.0109 - val_reg_l2_loss: 0.0732 - val_loss: 1.6277\n",
      "Epoch 2/50\n",
      "341/341 [==============================] - 209s 613ms/step - det_loss: 1.3158 - cls_loss: 0.8647 - box_loss: 0.0090 - reg_l2_loss: 0.0732 - loss: 1.3890 - learning_rate: 0.0050 - gradient_norm: 2.2537 - val_det_loss: 1.5071 - val_cls_loss: 0.9726 - val_box_loss: 0.0107 - val_reg_l2_loss: 0.0732 - val_loss: 1.5803\n",
      "Epoch 3/50\n",
      "341/341 [==============================] - 211s 618ms/step - det_loss: 1.2479 - cls_loss: 0.8221 - box_loss: 0.0085 - reg_l2_loss: 0.0732 - loss: 1.3211 - learning_rate: 0.0050 - gradient_norm: 2.3830 - val_det_loss: 1.4813 - val_cls_loss: 0.9657 - val_box_loss: 0.0103 - val_reg_l2_loss: 0.0732 - val_loss: 1.5545\n",
      "Epoch 4/50\n",
      "341/341 [==============================] - 211s 618ms/step - det_loss: 1.2076 - cls_loss: 0.7946 - box_loss: 0.0083 - reg_l2_loss: 0.0732 - loss: 1.2808 - learning_rate: 0.0049 - gradient_norm: 2.5926 - val_det_loss: 1.4633 - val_cls_loss: 0.9520 - val_box_loss: 0.0102 - val_reg_l2_loss: 0.0732 - val_loss: 1.5365\n",
      "Epoch 5/50\n",
      "341/341 [==============================] - 217s 637ms/step - det_loss: 1.1793 - cls_loss: 0.7718 - box_loss: 0.0082 - reg_l2_loss: 0.0732 - loss: 1.2526 - learning_rate: 0.0049 - gradient_norm: 2.6925 - val_det_loss: 1.4836 - val_cls_loss: 0.9651 - val_box_loss: 0.0104 - val_reg_l2_loss: 0.0733 - val_loss: 1.5569\n",
      "Epoch 6/50\n",
      "341/341 [==============================] - 210s 617ms/step - det_loss: 1.1462 - cls_loss: 0.7479 - box_loss: 0.0080 - reg_l2_loss: 0.0733 - loss: 1.2195 - learning_rate: 0.0048 - gradient_norm: 2.8000 - val_det_loss: 1.4497 - val_cls_loss: 0.9504 - val_box_loss: 0.0100 - val_reg_l2_loss: 0.0733 - val_loss: 1.5231\n",
      "Epoch 7/50\n",
      "341/341 [==============================] - 211s 619ms/step - det_loss: 1.1287 - cls_loss: 0.7322 - box_loss: 0.0079 - reg_l2_loss: 0.0733 - loss: 1.2021 - learning_rate: 0.0048 - gradient_norm: 2.9861 - val_det_loss: 1.4582 - val_cls_loss: 0.9624 - val_box_loss: 0.0099 - val_reg_l2_loss: 0.0734 - val_loss: 1.5316\n",
      "Epoch 8/50\n",
      "341/341 [==============================] - 210s 616ms/step - det_loss: 1.1080 - cls_loss: 0.7186 - box_loss: 0.0078 - reg_l2_loss: 0.0734 - loss: 1.1814 - learning_rate: 0.0047 - gradient_norm: 3.0643 - val_det_loss: 1.5258 - val_cls_loss: 1.0032 - val_box_loss: 0.0105 - val_reg_l2_loss: 0.0734 - val_loss: 1.5993\n",
      "Epoch 9/50\n",
      "341/341 [==============================] - 210s 615ms/step - det_loss: 1.1018 - cls_loss: 0.7146 - box_loss: 0.0077 - reg_l2_loss: 0.0735 - loss: 1.1752 - learning_rate: 0.0046 - gradient_norm: 3.0267 - val_det_loss: 1.5260 - val_cls_loss: 0.9834 - val_box_loss: 0.0109 - val_reg_l2_loss: 0.0735 - val_loss: 1.5995\n",
      "Epoch 10/50\n",
      "341/341 [==============================] - 218s 640ms/step - det_loss: 1.0863 - cls_loss: 0.7024 - box_loss: 0.0077 - reg_l2_loss: 0.0735 - loss: 1.1598 - learning_rate: 0.0046 - gradient_norm: 3.0286 - val_det_loss: 1.5013 - val_cls_loss: 0.9837 - val_box_loss: 0.0104 - val_reg_l2_loss: 0.0736 - val_loss: 1.5749\n",
      "Epoch 11/50\n",
      "341/341 [==============================] - 211s 618ms/step - det_loss: 1.0793 - cls_loss: 0.6951 - box_loss: 0.0077 - reg_l2_loss: 0.0736 - loss: 1.1529 - learning_rate: 0.0045 - gradient_norm: 3.1419 - val_det_loss: 1.4188 - val_cls_loss: 0.9138 - val_box_loss: 0.0101 - val_reg_l2_loss: 0.0736 - val_loss: 1.4925\n",
      "Epoch 12/50\n",
      "341/341 [==============================] - 210s 617ms/step - det_loss: 1.0615 - cls_loss: 0.6855 - box_loss: 0.0075 - reg_l2_loss: 0.0736 - loss: 1.1351 - learning_rate: 0.0044 - gradient_norm: 3.0812 - val_det_loss: 1.4143 - val_cls_loss: 0.9163 - val_box_loss: 0.0100 - val_reg_l2_loss: 0.0737 - val_loss: 1.4880\n",
      "Epoch 13/50\n",
      "341/341 [==============================] - 210s 617ms/step - det_loss: 1.0615 - cls_loss: 0.6841 - box_loss: 0.0075 - reg_l2_loss: 0.0737 - loss: 1.1352 - learning_rate: 0.0042 - gradient_norm: 3.2631 - val_det_loss: 1.4229 - val_cls_loss: 0.9227 - val_box_loss: 0.0100 - val_reg_l2_loss: 0.0737 - val_loss: 1.4966\n",
      "Epoch 14/50\n",
      "341/341 [==============================] - 210s 615ms/step - det_loss: 1.0344 - cls_loss: 0.6663 - box_loss: 0.0074 - reg_l2_loss: 0.0737 - loss: 1.1082 - learning_rate: 0.0041 - gradient_norm: 3.2580 - val_det_loss: 1.3126 - val_cls_loss: 0.8675 - val_box_loss: 0.0089 - val_reg_l2_loss: 0.0738 - val_loss: 1.3864\n",
      "Epoch 15/50\n",
      "341/341 [==============================] - 217s 637ms/step - det_loss: 1.0252 - cls_loss: 0.6612 - box_loss: 0.0073 - reg_l2_loss: 0.0738 - loss: 1.0990 - learning_rate: 0.0040 - gradient_norm: 3.2745 - val_det_loss: 1.4922 - val_cls_loss: 0.9932 - val_box_loss: 0.0100 - val_reg_l2_loss: 0.0738 - val_loss: 1.5660\n",
      "Epoch 16/50\n",
      "341/341 [==============================] - 211s 617ms/step - det_loss: 1.0175 - cls_loss: 0.6574 - box_loss: 0.0072 - reg_l2_loss: 0.0738 - loss: 1.0913 - learning_rate: 0.0039 - gradient_norm: 3.2711 - val_det_loss: 1.4049 - val_cls_loss: 0.9197 - val_box_loss: 0.0097 - val_reg_l2_loss: 0.0739 - val_loss: 1.4788\n",
      "Epoch 17/50\n",
      "341/341 [==============================] - 192s 562ms/step - det_loss: 1.0089 - cls_loss: 0.6510 - box_loss: 0.0072 - reg_l2_loss: 0.0739 - loss: 1.0828 - learning_rate: 0.0037 - gradient_norm: 3.3215 - val_det_loss: 1.3921 - val_cls_loss: 0.9197 - val_box_loss: 0.0094 - val_reg_l2_loss: 0.0739 - val_loss: 1.4660\n",
      "Epoch 18/50\n",
      "341/341 [==============================] - 181s 530ms/step - det_loss: 1.0040 - cls_loss: 0.6470 - box_loss: 0.0071 - reg_l2_loss: 0.0739 - loss: 1.0780 - learning_rate: 0.0036 - gradient_norm: 3.3967 - val_det_loss: 1.4740 - val_cls_loss: 0.9705 - val_box_loss: 0.0101 - val_reg_l2_loss: 0.0739 - val_loss: 1.5479\n",
      "Epoch 19/50\n",
      "341/341 [==============================] - 163s 478ms/step - det_loss: 1.0021 - cls_loss: 0.6415 - box_loss: 0.0072 - reg_l2_loss: 0.0740 - loss: 1.0761 - learning_rate: 0.0034 - gradient_norm: 3.3884 - val_det_loss: 1.3680 - val_cls_loss: 0.9061 - val_box_loss: 0.0092 - val_reg_l2_loss: 0.0740 - val_loss: 1.4420\n",
      "Epoch 20/50\n",
      "341/341 [==============================] - 169s 496ms/step - det_loss: 0.9924 - cls_loss: 0.6366 - box_loss: 0.0071 - reg_l2_loss: 0.0740 - loss: 1.0664 - learning_rate: 0.0033 - gradient_norm: 3.4080 - val_det_loss: 1.2665 - val_cls_loss: 0.8418 - val_box_loss: 0.0085 - val_reg_l2_loss: 0.0740 - val_loss: 1.3405\n",
      "Epoch 21/50\n",
      "341/341 [==============================] - 165s 484ms/step - det_loss: 0.9834 - cls_loss: 0.6326 - box_loss: 0.0070 - reg_l2_loss: 0.0740 - loss: 1.0574 - learning_rate: 0.0031 - gradient_norm: 3.5654 - val_det_loss: 1.2611 - val_cls_loss: 0.8317 - val_box_loss: 0.0086 - val_reg_l2_loss: 0.0741 - val_loss: 1.3352\n",
      "Epoch 22/50\n",
      "341/341 [==============================] - 180s 528ms/step - det_loss: 0.9872 - cls_loss: 0.6330 - box_loss: 0.0071 - reg_l2_loss: 0.0741 - loss: 1.0613 - learning_rate: 0.0030 - gradient_norm: 3.5681 - val_det_loss: 1.3054 - val_cls_loss: 0.8513 - val_box_loss: 0.0091 - val_reg_l2_loss: 0.0741 - val_loss: 1.3795\n",
      "Epoch 23/50\n",
      "341/341 [==============================] - 207s 607ms/step - det_loss: 0.9840 - cls_loss: 0.6273 - box_loss: 0.0071 - reg_l2_loss: 0.0741 - loss: 1.0581 - learning_rate: 0.0028 - gradient_norm: 3.6666 - val_det_loss: 1.6923 - val_cls_loss: 1.1379 - val_box_loss: 0.0111 - val_reg_l2_loss: 0.0741 - val_loss: 1.7664\n",
      "Epoch 24/50\n",
      "341/341 [==============================] - 191s 559ms/step - det_loss: 0.9729 - cls_loss: 0.6231 - box_loss: 0.0070 - reg_l2_loss: 0.0741 - loss: 1.0471 - learning_rate: 0.0027 - gradient_norm: 3.5036 - val_det_loss: 1.4283 - val_cls_loss: 0.9511 - val_box_loss: 0.0095 - val_reg_l2_loss: 0.0741 - val_loss: 1.5025\n",
      "Epoch 25/50\n",
      "341/341 [==============================] - 195s 572ms/step - det_loss: 0.9549 - cls_loss: 0.6122 - box_loss: 0.0069 - reg_l2_loss: 0.0741 - loss: 1.0290 - learning_rate: 0.0025 - gradient_norm: 3.4782 - val_det_loss: 1.4191 - val_cls_loss: 0.9430 - val_box_loss: 0.0095 - val_reg_l2_loss: 0.0741 - val_loss: 1.4932\n",
      "Epoch 26/50\n",
      "341/341 [==============================] - 186s 544ms/step - det_loss: 0.9613 - cls_loss: 0.6138 - box_loss: 0.0069 - reg_l2_loss: 0.0741 - loss: 1.0354 - learning_rate: 0.0023 - gradient_norm: 3.5727 - val_det_loss: 1.4122 - val_cls_loss: 0.9417 - val_box_loss: 0.0094 - val_reg_l2_loss: 0.0741 - val_loss: 1.4864\n",
      "Epoch 27/50\n",
      "341/341 [==============================] - 157s 461ms/step - det_loss: 0.9467 - cls_loss: 0.6073 - box_loss: 0.0068 - reg_l2_loss: 0.0742 - loss: 1.0208 - learning_rate: 0.0022 - gradient_norm: 3.6993 - val_det_loss: 1.2868 - val_cls_loss: 0.8560 - val_box_loss: 0.0086 - val_reg_l2_loss: 0.0742 - val_loss: 1.3609\n",
      "Epoch 28/50\n",
      "341/341 [==============================] - 163s 478ms/step - det_loss: 0.9327 - cls_loss: 0.5976 - box_loss: 0.0067 - reg_l2_loss: 0.0742 - loss: 1.0068 - learning_rate: 0.0020 - gradient_norm: 3.6401 - val_det_loss: 1.3445 - val_cls_loss: 0.9041 - val_box_loss: 0.0088 - val_reg_l2_loss: 0.0742 - val_loss: 1.4187\n",
      "Epoch 29/50\n",
      "341/341 [==============================] - 159s 468ms/step - det_loss: 0.9377 - cls_loss: 0.5990 - box_loss: 0.0068 - reg_l2_loss: 0.0742 - loss: 1.0118 - learning_rate: 0.0019 - gradient_norm: 3.6867 - val_det_loss: 1.2984 - val_cls_loss: 0.8691 - val_box_loss: 0.0086 - val_reg_l2_loss: 0.0742 - val_loss: 1.3726\n",
      "Epoch 30/50\n",
      "341/341 [==============================] - 175s 513ms/step - det_loss: 0.9241 - cls_loss: 0.5898 - box_loss: 0.0067 - reg_l2_loss: 0.0742 - loss: 0.9983 - learning_rate: 0.0017 - gradient_norm: 3.6750 - val_det_loss: 1.2850 - val_cls_loss: 0.8606 - val_box_loss: 0.0085 - val_reg_l2_loss: 0.0742 - val_loss: 1.3591\n",
      "Epoch 31/50\n",
      "341/341 [==============================] - 172s 505ms/step - det_loss: 0.9305 - cls_loss: 0.5933 - box_loss: 0.0067 - reg_l2_loss: 0.0742 - loss: 1.0047 - learning_rate: 0.0016 - gradient_norm: 3.7256 - val_det_loss: 1.3237 - val_cls_loss: 0.8656 - val_box_loss: 0.0092 - val_reg_l2_loss: 0.0742 - val_loss: 1.3979\n",
      "Epoch 32/50\n",
      "341/341 [==============================] - 176s 515ms/step - det_loss: 0.9175 - cls_loss: 0.5854 - box_loss: 0.0066 - reg_l2_loss: 0.0742 - loss: 0.9917 - learning_rate: 0.0014 - gradient_norm: 3.9085 - val_det_loss: 1.3120 - val_cls_loss: 0.8644 - val_box_loss: 0.0090 - val_reg_l2_loss: 0.0742 - val_loss: 1.3861\n",
      "Epoch 33/50\n",
      "341/341 [==============================] - 165s 484ms/step - det_loss: 0.9174 - cls_loss: 0.5852 - box_loss: 0.0066 - reg_l2_loss: 0.0742 - loss: 0.9916 - learning_rate: 0.0013 - gradient_norm: 3.7105 - val_det_loss: 1.2551 - val_cls_loss: 0.8345 - val_box_loss: 0.0084 - val_reg_l2_loss: 0.0741 - val_loss: 1.3293\n",
      "Epoch 34/50\n",
      "341/341 [==============================] - 199s 584ms/step - det_loss: 0.9081 - cls_loss: 0.5783 - box_loss: 0.0066 - reg_l2_loss: 0.0741 - loss: 0.9822 - learning_rate: 0.0011 - gradient_norm: 3.8458 - val_det_loss: 1.5148 - val_cls_loss: 1.0161 - val_box_loss: 0.0100 - val_reg_l2_loss: 0.0741 - val_loss: 1.5890\n",
      "Epoch 35/50\n",
      "341/341 [==============================] - 205s 601ms/step - det_loss: 0.9031 - cls_loss: 0.5756 - box_loss: 0.0065 - reg_l2_loss: 0.0741 - loss: 0.9773 - learning_rate: 0.0010 - gradient_norm: 3.7674 - val_det_loss: 1.2528 - val_cls_loss: 0.8366 - val_box_loss: 0.0083 - val_reg_l2_loss: 0.0741 - val_loss: 1.3270\n",
      "Epoch 36/50\n",
      "341/341 [==============================] - 189s 554ms/step - det_loss: 0.8958 - cls_loss: 0.5711 - box_loss: 0.0065 - reg_l2_loss: 0.0741 - loss: 0.9699 - learning_rate: 8.7971e-04 - gradient_norm: 3.8420 - val_det_loss: 1.2545 - val_cls_loss: 0.8387 - val_box_loss: 0.0083 - val_reg_l2_loss: 0.0741 - val_loss: 1.3286\n",
      "Epoch 37/50\n",
      "341/341 [==============================] - 186s 545ms/step - det_loss: 0.8870 - cls_loss: 0.5655 - box_loss: 0.0064 - reg_l2_loss: 0.0741 - loss: 0.9612 - learning_rate: 7.6109e-04 - gradient_norm: 3.7993 - val_det_loss: 1.2648 - val_cls_loss: 0.8444 - val_box_loss: 0.0084 - val_reg_l2_loss: 0.0741 - val_loss: 1.3390\n",
      "Epoch 38/50\n",
      "341/341 [==============================] - 158s 462ms/step - det_loss: 0.8868 - cls_loss: 0.5634 - box_loss: 0.0065 - reg_l2_loss: 0.0741 - loss: 0.9609 - learning_rate: 6.4962e-04 - gradient_norm: 3.8084 - val_det_loss: 1.2962 - val_cls_loss: 0.8658 - val_box_loss: 0.0086 - val_reg_l2_loss: 0.0741 - val_loss: 1.3703\n",
      "Epoch 39/50\n",
      "341/341 [==============================] - 143s 419ms/step - det_loss: 0.8895 - cls_loss: 0.5648 - box_loss: 0.0065 - reg_l2_loss: 0.0741 - loss: 0.9636 - learning_rate: 5.4576e-04 - gradient_norm: 3.7874 - val_det_loss: 1.3102 - val_cls_loss: 0.8842 - val_box_loss: 0.0085 - val_reg_l2_loss: 0.0741 - val_loss: 1.3843\n",
      "Epoch 40/50\n",
      "341/341 [==============================] - 152s 444ms/step - det_loss: 0.8760 - cls_loss: 0.5549 - box_loss: 0.0064 - reg_l2_loss: 0.0741 - loss: 0.9502 - learning_rate: 4.4992e-04 - gradient_norm: 3.7176 - val_det_loss: 1.3019 - val_cls_loss: 0.8746 - val_box_loss: 0.0085 - val_reg_l2_loss: 0.0741 - val_loss: 1.3760\n",
      "Epoch 41/50\n",
      "341/341 [==============================] - 164s 481ms/step - det_loss: 0.8801 - cls_loss: 0.5577 - box_loss: 0.0064 - reg_l2_loss: 0.0741 - loss: 0.9542 - learning_rate: 3.6251e-04 - gradient_norm: 3.8557 - val_det_loss: 1.2896 - val_cls_loss: 0.8672 - val_box_loss: 0.0084 - val_reg_l2_loss: 0.0741 - val_loss: 1.3637\n",
      "Epoch 42/50\n",
      "341/341 [==============================] - 148s 434ms/step - det_loss: 0.8838 - cls_loss: 0.5591 - box_loss: 0.0065 - reg_l2_loss: 0.0741 - loss: 0.9579 - learning_rate: 2.8388e-04 - gradient_norm: 3.7991 - val_det_loss: 1.2846 - val_cls_loss: 0.8628 - val_box_loss: 0.0084 - val_reg_l2_loss: 0.0741 - val_loss: 1.3587\n",
      "Epoch 43/50\n",
      "341/341 [==============================] - 165s 483ms/step - det_loss: 0.8733 - cls_loss: 0.5550 - box_loss: 0.0064 - reg_l2_loss: 0.0741 - loss: 0.9474 - learning_rate: 2.1436e-04 - gradient_norm: 3.7747 - val_det_loss: 1.2917 - val_cls_loss: 0.8681 - val_box_loss: 0.0085 - val_reg_l2_loss: 0.0741 - val_loss: 1.3658\n",
      "Epoch 44/50\n",
      "341/341 [==============================] - 186s 546ms/step - det_loss: 0.8869 - cls_loss: 0.5636 - box_loss: 0.0065 - reg_l2_loss: 0.0741 - loss: 0.9610 - learning_rate: 1.5423e-04 - gradient_norm: 3.8261 - val_det_loss: 1.2841 - val_cls_loss: 0.8659 - val_box_loss: 0.0084 - val_reg_l2_loss: 0.0741 - val_loss: 1.3582\n",
      "Epoch 45/50\n",
      "341/341 [==============================] - 172s 504ms/step - det_loss: 0.8827 - cls_loss: 0.5592 - box_loss: 0.0065 - reg_l2_loss: 0.0741 - loss: 0.9567 - learning_rate: 1.0374e-04 - gradient_norm: 3.9609 - val_det_loss: 1.2831 - val_cls_loss: 0.8662 - val_box_loss: 0.0083 - val_reg_l2_loss: 0.0741 - val_loss: 1.3571\n",
      "Epoch 46/50\n",
      "341/341 [==============================] - 147s 432ms/step - det_loss: 0.8709 - cls_loss: 0.5542 - box_loss: 0.0063 - reg_l2_loss: 0.0741 - loss: 0.9450 - learning_rate: 6.3100e-05 - gradient_norm: 3.7330 - val_det_loss: 1.2941 - val_cls_loss: 0.8737 - val_box_loss: 0.0084 - val_reg_l2_loss: 0.0741 - val_loss: 1.3682\n",
      "Epoch 47/50\n",
      "341/341 [==============================] - 178s 522ms/step - det_loss: 0.8814 - cls_loss: 0.5589 - box_loss: 0.0065 - reg_l2_loss: 0.0741 - loss: 0.9555 - learning_rate: 3.2471e-05 - gradient_norm: 3.8351 - val_det_loss: 1.2895 - val_cls_loss: 0.8707 - val_box_loss: 0.0084 - val_reg_l2_loss: 0.0741 - val_loss: 1.3636\n",
      "Epoch 48/50\n",
      "341/341 [==============================] - 170s 499ms/step - det_loss: 0.8769 - cls_loss: 0.5544 - box_loss: 0.0065 - reg_l2_loss: 0.0741 - loss: 0.9510 - learning_rate: 1.1981e-05 - gradient_norm: 3.7987 - val_det_loss: 1.2841 - val_cls_loss: 0.8666 - val_box_loss: 0.0084 - val_reg_l2_loss: 0.0741 - val_loss: 1.3582\n",
      "Epoch 49/50\n",
      "341/341 [==============================] - 171s 501ms/step - det_loss: 0.8616 - cls_loss: 0.5472 - box_loss: 0.0063 - reg_l2_loss: 0.0741 - loss: 0.9357 - learning_rate: 1.7149e-06 - gradient_norm: 3.7711 - val_det_loss: 1.2842 - val_cls_loss: 0.8676 - val_box_loss: 0.0083 - val_reg_l2_loss: 0.0741 - val_loss: 1.3583\n",
      "Epoch 50/50\n",
      "341/341 [==============================] - 207s 606ms/step - det_loss: 0.8733 - cls_loss: 0.5551 - box_loss: 0.0064 - reg_l2_loss: 0.0741 - loss: 0.9474 - learning_rate: 1.7148e-06 - gradient_norm: 3.7346 - val_det_loss: 1.2869 - val_cls_loss: 0.8691 - val_box_loss: 0.0084 - val_reg_l2_loss: 0.0741 - val_loss: 1.3609\n"
     ]
    }
   ],
   "source": [
    "model = object_detector.create(train_data, model_spec=spec, train_whole_model=True, validation_data=validation_data)"
   ]
  },
  {
   "cell_type": "markdown",
   "metadata": {},
   "source": [
    "### Write the model maker class list to a file!"
   ]
  },
  {
   "cell_type": "code",
   "execution_count": 79,
   "metadata": {},
   "outputs": [],
   "source": [
    "import json\n",
    "import os\n",
    "\n",
    "if not os.path.exists(model_dir):\n",
    "    os.makedirs(model_dir)\n",
    "\n",
    "label_map = model.model_spec.config.label_map.as_dict()\n",
    "# Writing the dictionary to a JSON file\n",
    "with open(model_dir+'/label_map.json', 'w') as file:\n",
    "    json.dump(label_map, file)"
   ]
  },
  {
   "cell_type": "markdown",
   "metadata": {},
   "source": [
    "# run tensorboard to monitor"
   ]
  },
  {
   "cell_type": "code",
   "execution_count": 81,
   "metadata": {},
   "outputs": [],
   "source": [
    "# !tensorboard --logdir=/home/alex/checkpoints_lite1_1700imgs/ --port=6006"
   ]
  },
  {
   "cell_type": "markdown",
   "id": "fb4952ee",
   "metadata": {},
   "source": [
    "Run on test data"
   ]
  },
  {
   "cell_type": "code",
   "execution_count": 82,
   "id": "18520724",
   "metadata": {},
   "outputs": [
    {
     "name": "stdout",
     "output_type": "stream",
     "text": [
      "43/43 [==============================] - 9s 158ms/step\n",
      "\n"
     ]
    },
    {
     "data": {
      "text/plain": [
       "{'AP': 0.19247203,\n",
       " 'AP50': 0.28074333,\n",
       " 'AP75': 0.21863717,\n",
       " 'APs': 0.0,\n",
       " 'APm': 0.10680747,\n",
       " 'APl': 0.2255289,\n",
       " 'ARmax1': 0.17313394,\n",
       " 'ARmax10': 0.30513027,\n",
       " 'ARmax100': 0.31492803,\n",
       " 'ARs': 0.0,\n",
       " 'ARm': 0.15844609,\n",
       " 'ARl': 0.3594202,\n",
       " 'AP_/other': 0.26882666,\n",
       " 'AP_/Apple': 0.0428695,\n",
       " 'AP_/Lemon': 0.16508158,\n",
       " 'AP_/Tomato': 0.18646981,\n",
       " 'AP_/Potato': 0.13956542,\n",
       " 'AP_/Cucumber': 0.1766632,\n",
       " 'AP_/Ginger': 0.20991604,\n",
       " 'AP_/Banana': 0.26109135,\n",
       " 'AP_/Egg': 0.39668977,\n",
       " 'AP_/Garlic': 0.15039946,\n",
       " 'AP_/Bell-Pepper': 0.20281202,\n",
       " 'AP_/Onion': 0.20246477,\n",
       " 'AP_/Scallion': 0.22812863,\n",
       " 'AP_/Zucchini': 0.076759845,\n",
       " 'AP_/Carrot': 0.17447785,\n",
       " 'AP_/Pumpkin': 0.19733657}"
      ]
     },
     "execution_count": 82,
     "metadata": {},
     "output_type": "execute_result"
    }
   ],
   "source": [
    "model.evaluate(test_data)"
   ]
  },
  {
   "cell_type": "markdown",
   "id": "57ae545d",
   "metadata": {},
   "source": [
    "### Export the model to tflite model"
   ]
  },
  {
   "cell_type": "code",
   "execution_count": 83,
   "id": "a168367b",
   "metadata": {},
   "outputs": [
    {
     "name": "stderr",
     "output_type": "stream",
     "text": [
      "2023-11-20 00:40:18.594223: W tensorflow/core/common_runtime/graph_constructor.cc:803] Node 'resample_p7/PartitionedCall' has 1 outputs but the _output_shapes attribute specifies shapes for 3 outputs. Output shapes may be inaccurate.\n",
      "2023-11-20 00:40:24.901211: W tensorflow/compiler/mlir/lite/python/tf_tfl_flatbuffer_helpers.cc:357] Ignored output_format.\n",
      "2023-11-20 00:40:24.901252: W tensorflow/compiler/mlir/lite/python/tf_tfl_flatbuffer_helpers.cc:360] Ignored drop_control_dependency.\n",
      "2023-11-20 00:40:24.901439: I tensorflow/cc/saved_model/reader.cc:43] Reading SavedModel from: /tmp/tmpbtutufjv\n",
      "2023-11-20 00:40:24.954496: I tensorflow/cc/saved_model/reader.cc:78] Reading meta graph with tags { serve }\n",
      "2023-11-20 00:40:24.954527: I tensorflow/cc/saved_model/reader.cc:119] Reading SavedModel debug info (if present) from: /tmp/tmpbtutufjv\n",
      "2023-11-20 00:40:25.148389: I tensorflow/cc/saved_model/loader.cc:228] Restoring SavedModel bundle.\n",
      "2023-11-20 00:40:26.309831: I tensorflow/cc/saved_model/loader.cc:212] Running initialization op on SavedModel bundle at path: /tmp/tmpbtutufjv\n",
      "2023-11-20 00:40:26.852624: I tensorflow/cc/saved_model/loader.cc:301] SavedModel load for tags { serve }; Status: success: OK. Took 1951191 microseconds.\n",
      "2023-11-20 00:40:29.000595: I tensorflow/compiler/mlir/lite/flatbuffer_export.cc:1963] Estimated count of arithmetic ops: 3.640 G  ops, equivalently 1.820 G  MACs\n",
      "\n"
     ]
    },
    {
     "name": "stdout",
     "output_type": "stream",
     "text": [
      "Estimated count of arithmetic ops: 3.640 G  ops, equivalently 1.820 G  MACs\n",
      "Estimated count of arithmetic ops: 3.640 G  ops, equivalently 1.820 G  MACs\n"
     ]
    },
    {
     "name": "stderr",
     "output_type": "stream",
     "text": [
      "fully_quantize: 0, inference_type: 6, input_inference_type: 3, output_inference_type: 0\n",
      "2023-11-20 00:42:43.881289: I tensorflow/compiler/mlir/lite/flatbuffer_export.cc:1963] Estimated count of arithmetic ops: 3.640 G  ops, equivalently 1.820 G  MACs\n",
      "\n"
     ]
    }
   ],
   "source": [
    "model.export(export_dir=model_dir)"
   ]
  },
  {
   "cell_type": "markdown",
   "id": "c1d704b3",
   "metadata": {},
   "source": [
    "Run inference script for visual output"
   ]
  },
  {
   "cell_type": "code",
   "execution_count": 84,
   "id": "0344fa93",
   "metadata": {
    "vscode": {
     "languageId": "shellscript"
    }
   },
   "outputs": [
    {
     "name": "stdout",
     "output_type": "stream",
     "text": [
      "convert png image files to jpeg imgs\n"
     ]
    },
    {
     "data": {
      "application/vnd.jupyter.widget-view+json": {
       "model_id": "5c675e765b9e49f28eddca9671e0fb7b",
       "version_major": 2,
       "version_minor": 0
      },
      "text/plain": [
       "0it [00:00, ?it/s]"
      ]
     },
     "metadata": {},
     "output_type": "display_data"
    },
    {
     "name": "stdout",
     "output_type": "stream",
     "text": [
      "Converted 0\n",
      "Ignored 11599 files because: Not a PNG file\n",
      "Ignored 0 files because: Not found\n",
      "Predications will be saved to output_inference1\n"
     ]
    },
    {
     "name": "stderr",
     "output_type": "stream",
     "text": [
      "100%|██████████| 170/170 [07:53<00:00,  2.78s/it]\n"
     ]
    }
   ],
   "source": [
    "# needs to be after training for some reason\n",
    "\n",
    "%run 'png_to_jpeg.py' {annotations_base_filename +\"_mlflow_shuffled_n.csv\"}\n",
    "\n",
    "\n",
    "%run do_inference.py --input_csv {annotations_base_filename +\"_mlflow_shuffled_n.csv\"}\\\n",
    "                       --model_url {model_dir}/model.tflite --output_dir output_inference1 --label_file {model_dir}/label_map.json"
   ]
  }
 ],
 "metadata": {
  "kernelspec": {
   "display_name": "Python 3 (ipykernel)",
   "language": "python",
   "name": "python3"
  },
  "language_info": {
   "codemirror_mode": {
    "name": "ipython",
    "version": 3
   },
   "file_extension": ".py",
   "mimetype": "text/x-python",
   "name": "python",
   "nbconvert_exporter": "python",
   "pygments_lexer": "ipython3",
   "version": "3.8.10"
  }
 },
 "nbformat": 4,
 "nbformat_minor": 5
}
